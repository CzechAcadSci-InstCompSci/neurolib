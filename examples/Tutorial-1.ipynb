{
 "cells": [
  {
   "cell_type": "markdown",
   "id": "253cff87-b216-4efe-931a-42ecca6ffde9",
   "metadata": {
    "tags": []
   },
   "source": [
    "# Welcome to the neurolib tutorial at CNS*2022\n",
    "\n",
    "In the next 1.5 hrs you will learn about `neurolib` – a whole-brain neural mass modeling framework for computational neuroscientists. \n",
    "\n",
    "# Getting started\n",
    "\n",
    "The best way to follow this tutorial is to run `neurolib` on your own machine. If you're looking at this notebook from in Google Colab or Binder, you don't have to install anything on your own.\n",
    "\n",
    "## Python environment\n",
    "\n",
    "We recommend installing [Miniconda](https://docs.conda.io/en/latest/miniconda.html) with Python 3.6-3.8 (3.9 is not supported yet). If you don't use Miniconda, you might have to install additional packages. \n",
    "\n",
    "## Mac users\n",
    "On macOS, `neurolib` is only supported with Python 3.6 and 3.7. Unfortunately, Python 3.8 does not work with `neurolib` on macOS.\n",
    "\n",
    "## Installing \n",
    "\n",
    "```bash\n",
    "git clone https://github.com/neurolib-dev/neurolib.git\n",
    "cd neurolib/\n",
    "pip install -r requirements.txt\n",
    "```\n",
    "\n",
    "The next command installs `neurolib` as a package using `pip`. This is useful, however, you don't have to do this to run the notebooks in this tutorial. The benefit of *not* installing it as a package is that you can change the code of `neurolib` which you've cloned from the GitHub repository in the step before and directly observe the changes in your notebook.\n",
    "\n",
    "```bash\n",
    "pip install .\n",
    "```\n",
    "\n",
    "### Binary dependencies\n",
    "\n",
    "Note that you might have to install `hdf5` binaries with your system packet manager to use `neurolib`.\n",
    "\n",
    "On macOS, you can install it using homebrew:\n",
    "\n",
    "```bash\n",
    "brew install hdf5 c-blosc lzo bzip2\n",
    "```"
   ]
  },
  {
   "cell_type": "markdown",
   "id": "eb9868aa-c3fb-42a1-aebd-b105288d1b3d",
   "metadata": {
    "tags": []
   },
   "source": [
    "# What will I learn?\n",
    "\n",
    "This tutorial will give you a rough idea how neurolib works, teach you how to use neurolib using simple examples, and finally expand on these basic use cases so you can make use of `neurolib` in your own research. From time to time, we will also have a look at the code itself and learn how to implement a model so you can help improve neurolib and adapt it to your specific use case.\n",
    "\n",
    "## `Tutorial-1.ipynb`: Introduction\n",
    "* Package overview\n",
    "* Model basics\n",
    "* Parameter handling\n",
    "\n",
    "## `Tutorial-2.ipynb`: From single-node to whole-brain model\n",
    "* Loading brain datasets\n",
    "* Implementing your own model\n",
    "* Set up whole-brain model \n",
    "* Analyse model output\n",
    "\n",
    "## `Tutorial-3.ipynb`: Parameter explorations\n",
    "* Set up exploration\n",
    "* Run and plot results\n",
    "* Define custom evaluation functions\n",
    "\n",
    "## `Tutorial-4.ipynb`: Evolutionary optimization \n",
    "* Evolutionary algorithms\n",
    "* Toy model for evolution\n",
    "* Optimizing whole-brain model\n",
    "* Extra: Fit whole-brain model to fMRI data"
   ]
  },
  {
   "cell_type": "markdown",
   "id": "39448a8a-e0c9-4719-a5d5-1ca896b1212f",
   "metadata": {},
   "source": [
    "# Part 1 – Introduction"
   ]
  },
  {
   "cell_type": "markdown",
   "id": "565f1acb-5cf4-41e1-b3ee-72d547fa6978",
   "metadata": {
    "tags": []
   },
   "source": [
    "## Data flow diagram\n",
    "<p align=\"center\">\n",
    "  <img src=\"https://github.com/neurolib-dev/neurolib/raw/cns_tutorial/examples/tutorial_data/flowchart.png\" width=\"800\">\n",
    "</p>"
   ]
  },
  {
   "cell_type": "markdown",
   "id": "50dba173-81e1-4b27-98d8-947674a8997a",
   "metadata": {
    "tags": []
   },
   "source": [
    "## Directory structure\n",
    "```\n",
    "├──neurolib/\t \t\t\t# Main module\n",
    "\t├── models/ \t\t\t# Neural mass models\n",
    "\t\t├──model.py \t\t\t# Base model class\n",
    "\t└── /.../ \t\t\t\t# Implemented mass models\n",
    "\t├── optimize/ \t\t\t# Optimization submodule\n",
    "\t\t├── evolution/ \t\t\t# Evolutionary optimization\n",
    "\t\t└── exploration/ \t\t# Parameter exploration\n",
    "\t├── data/ \t\t\t\t# Empirical datasets (structural, functional)\n",
    "\t├── utils/\t\t\t\t# Utility belt\n",
    "\t\t├── atlases.py\t\t\t# Atlases (Region names, coordinates)\n",
    "\t\t├── collections.py\t\t# Custom data types\n",
    "\t\t├── functions.py \t\t# Useful functions\n",
    "\t\t├── loadData.py\t\t\t# Dataset loader\n",
    "\t\t├── parameterSpace.py\t\t# Parameter space\n",
    "\t\t├── saver.py \t\t\t# Save simulation outputs\n",
    "\t\t├── signal.py\t\t\t# Signal processing functions\n",
    "\t\t└── stimulus.py \t\t# Stimulus construction\n",
    "\t\t└── /.../\t\t\t# More utility functions\n",
    "├── examples/\t\t\t\t# Example Jupyter notebooks\n",
    "├── docs/\t\t\t\t# Documentation \n",
    "└── tests/\t\t\t\t# Automated tests\n",
    "```"
   ]
  },
  {
   "cell_type": "code",
   "execution_count": 2,
   "id": "36a25e36-bc04-4493-9055-f43aeb8c535c",
   "metadata": {},
   "outputs": [],
   "source": [
    "import os\n",
    "if os.getcwd().split(\"/\")[-1] == \"examples\":\n",
    "    os.chdir('..')\n",
    "else:\n",
    "    !git clone https://github.com/neurolib-dev/neurolib.git\n",
    "    os.chdir('neurolib')\n",
    "    !pip install -r requirements.txt"
   ]
  },
  {
   "cell_type": "code",
   "execution_count": 3,
   "id": "241eba2b-385f-4ba9-a2db-ee5128cc65f2",
   "metadata": {},
   "outputs": [
    {
     "name": "stdout",
     "output_type": "stream",
     "text": [
      "Model: aln\tClass: ALNModel\n",
      "\t\tDescr: Multi-population mean-field model with exciatory and inhibitory neurons per population.\n",
      "\t\tImport: from neurolib.models.aln import ALNModel\n",
      "Model: bold\tClass: BOLDModel\n",
      "\t\tDescr: Balloon-Windkessel BOLD simulator class.\n",
      "\t\tImport: from neurolib.models.bold import BOLDModel\n",
      "Model: fhn\tClass: FHNModel\n",
      "\t\tDescr: Fitz-Hugh Nagumo oscillator.\n",
      "\t\tImport: from neurolib.models.fhn import FHNModel\n",
      "Model: hopf\tClass: HopfModel\n",
      "\t\tDescr: Stuart-Landau model with Hopf bifurcation.\n",
      "\t\tImport: from neurolib.models.hopf import HopfModel\n",
      "Model: multimodel\tClass: ALNNetwork\n",
      "\t\tDescr: Whole brain network of adaptive exponential integrate-and-fire mean-field\n",
      "\t\tImport: from neurolib.models.multimodel import ALNNetwork\n",
      "Model: thalamus\tClass: ThalamicMassModel\n",
      "\t\tDescr: Two population thalamic model\n",
      "\t\tImport: from neurolib.models.thalamus import ThalamicMassModel\n",
      "Model: wc\tClass: WCModel\n",
      "\t\tDescr: The two-population Wilson-Cowan model\n",
      "\t\tImport: from neurolib.models.wc import WCModel\n",
      "Model: ww\tClass: WWModel\n",
      "\t\tDescr: Wong-Wang model. Original version and reduced version.\n",
      "\t\tImport: from neurolib.models.ww import WWModel\n"
     ]
    }
   ],
   "source": [
    "import glob\n",
    "import importlib\n",
    "import sys\n",
    "import inspect\n",
    "\n",
    "models = [p.split(\"/\")[-1] for p in glob.glob(\"neurolib/models/*\") if not (p.split(\"/\")[-1].startswith(\"_\") or p.split(\"/\")[-1].endswith(\".py\"))]\n",
    "models.sort()\n",
    "for model in models:\n",
    "    i = importlib.import_module(f\".models.{model}\", \"neurolib\")\n",
    "    classname = inspect.getmembers(i)[0][0]\n",
    "    importname = f\"neurolib.models.{model}\"\n",
    "    desc = inspect.getdoc(inspect.getmembers(i)[0][1]).split(\"\\n\")[0]\n",
    "    print(f\"Model: {model}\\tClass: {classname}\\n\\t\\tDescr: {desc}\")\n",
    "    print(f\"\\t\\tImport: from {importname} import {classname}\")"
   ]
  },
  {
   "cell_type": "code",
   "execution_count": null,
   "id": "1f4043bb-9629-4209-8fca-132da65028ce",
   "metadata": {},
   "outputs": [],
   "source": []
  }
 ],
 "metadata": {
  "kernelspec": {
   "display_name": "Python 3 (ipykernel)",
   "language": "python",
   "name": "python3"
  },
  "language_info": {
   "codemirror_mode": {
    "name": "ipython",
    "version": 3
   },
   "file_extension": ".py",
   "mimetype": "text/x-python",
   "name": "python",
   "nbconvert_exporter": "python",
   "pygments_lexer": "ipython3",
   "version": "3.7.13"
  }
 },
 "nbformat": 4,
 "nbformat_minor": 5
}
