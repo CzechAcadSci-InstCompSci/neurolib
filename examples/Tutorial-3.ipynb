{
 "cells": [
  {
   "cell_type": "code",
   "execution_count": 1,
   "id": "425dab2d-a435-436f-82d3-632eeabb0923",
   "metadata": {},
   "outputs": [],
   "source": [
    "# change to the root directory of the project\n",
    "import os\n",
    "if os.getcwd().split(\"/\")[-1] == \"examples\":\n",
    "    os.chdir('..')\n",
    "try:\n",
    "    import neurolib\n",
    "except ImportError:\n",
    "    import sys\n",
    "    !{sys.executable} -m pip install neurolib\n",
    "    \n",
    "# This will reload all imports as soon as the code changes\n",
    "%load_ext autoreload\n",
    "%autoreload 2    "
   ]
  },
  {
   "cell_type": "code",
   "execution_count": 2,
   "id": "a460a3b7-6d3d-43ce-a021-7d2e760bb46d",
   "metadata": {},
   "outputs": [],
   "source": [
    "try:\n",
    "    import matplotlib.pyplot as plt\n",
    "except ImportError:\n",
    "    import sys\n",
    "    !{sys.executable} -m pip install matplotlib\n",
    "    import matplotlib.pyplot as plt\n",
    "    \n",
    "import numpy as np\n",
    "import scipy\n",
    "\n",
    "# Let's import the aln model\n",
    "from neurolib.models.aln import ALNModel\n",
    "\n",
    "# Some useful functions are provided here\n",
    "import neurolib.utils.functions as func\n",
    "\n",
    "# a nice color map\n",
    "plt.rcParams['image.cmap'] = 'plasma'"
   ]
  },
  {
   "cell_type": "markdown",
   "id": "d5b2417f-24df-4235-81f5-ddaae2ea7e2b",
   "metadata": {},
   "source": [
    "# Exploring models"
   ]
  },
  {
   "cell_type": "markdown",
   "id": "9ab7e96c-6f8d-46f7-b8de-eb4109527054",
   "metadata": {},
   "source": [
    "Bifurcation diagrams can give us an overview of how different parameters of the model affect its dynamics. The simplest method for drawing a bifurcation diagram is to simply change relevant parameters step by step and record the model's behavior in response to these changes. In this example, we want to see how the model's dynamics changes with respect to the **external input currents** to the excitatory population. These input currents could be due to couplings with other nodes in a brain network or we could model other factors like external electrical stimulation. "
   ]
  },
  {
   "cell_type": "markdown",
   "id": "0cb740d0-8702-4d81-8a7c-645d2b01ed6e",
   "metadata": {},
   "source": [
    "Below, you can see a schematic of the `aln` model. As you can see, a single node consists of one excitatory (red) and one inhibitory population (blue). The parameter that controls the mean input to the excitatory population is $\\mu_{E}$ or `model.params[\"mue_ext_mean\"]`.\n",
    "\n",
    "<p align=\"center\">\n",
    "  <img src=\"../resources/aln.png\" width=\"400\">\n",
    "</p>"
   ]
  },
  {
   "cell_type": "markdown",
   "id": "3cbeee6a-66bd-4324-9d85-c4ccef5af1b0",
   "metadata": {},
   "source": [
    "Let's first decrease the duration of a single run so we can scan the parameter space a bit faster and let's also disable the noisy input."
   ]
  },
  {
   "cell_type": "code",
   "execution_count": 3,
   "id": "112421e3-78b6-48da-af11-be939513e160",
   "metadata": {},
   "outputs": [],
   "source": [
    "# Create the model\n",
    "model = ALNModel()\n",
    "model.params['duration'] = 2.0 * 1000  \n",
    "model.params['sigma_ou'] = 0.0"
   ]
  },
  {
   "cell_type": "markdown",
   "id": "599daf5d-5808-48dc-8552-318d268e2f26",
   "metadata": {},
   "source": [
    "Let's fix the input to the inhibitory population:"
   ]
  },
  {
   "cell_type": "code",
   "execution_count": 4,
   "id": "607906bf-00c8-4f56-96ea-b32a19537bf8",
   "metadata": {},
   "outputs": [],
   "source": [
    "model.params['mui_ext_mean'] = 0.5"
   ]
  },
  {
   "cell_type": "markdown",
   "id": "68f2fe2e-0feb-446f-8f29-76c07d3dd99f",
   "metadata": {},
   "source": [
    "We draw a one-dimensional bifurcation diagram, so it is enough to loop through different values of `mue_ext_mean` and record the minimum and maximum of the rate for each parameter."
   ]
  },
  {
   "cell_type": "code",
   "execution_count": 5,
   "id": "78123b4b-0d0d-4e48-bd8c-adc50d8fb4d1",
   "metadata": {},
   "outputs": [],
   "source": [
    "max_rate_e = []\n",
    "min_rate_e = []\n",
    "# these are the different input values that we want to scan\n",
    "mue_inputs = np.linspace(0, 2, 50)\n",
    "for mue in mue_inputs:\n",
    "    model.params['mue_ext_mean'] = mue\n",
    "    model.run()\n",
    "    # we add the maximum and the minimum of the last second of the \n",
    "    # simulation to a list\n",
    "    max_rate_e.append(np.max(model.output[0, -int(1000/model.params['dt']):]))\n",
    "    min_rate_e.append(np.min(model.output[0, -int(1000/model.params['dt']):]))"
   ]
  },
  {
   "cell_type": "markdown",
   "id": "243ffa80-4018-42ca-a0b3-f96d5d0ec57f",
   "metadata": {},
   "source": [
    "Let's plot the results!"
   ]
  },
  {
   "cell_type": "code",
   "execution_count": 6,
   "id": "1e194845-7bf4-4592-b8b0-d817da1ef3cd",
   "metadata": {},
   "outputs": [
    {
     "data": {
      "text/plain": [
       "Text(0, 0.5, 'Min / max firing rate')"
      ]
     },
     "execution_count": 6,
     "metadata": {},
     "output_type": "execute_result"
    },
    {
     "data": {
      "image/png": "[encoded data removed]",
      "text/plain": [
       "<Figure size 432x288 with 1 Axes>"
      ]
     },
     "metadata": {
      "needs_background": "light"
     },
     "output_type": "display_data"
    }
   ],
   "source": [
    "plt.plot(mue_inputs, max_rate_e, c='k', lw = 2)\n",
    "plt.plot(mue_inputs, min_rate_e, c='k', lw = 2)\n",
    "plt.title(\"Bifurcation diagram of the aln model\")\n",
    "plt.xlabel(\"Input to excitatory population\")\n",
    "plt.ylabel(\"Min / max firing rate\")"
   ]
  },
  {
   "cell_type": "markdown",
   "id": "c51e1a7b-b030-4980-a942-51155618bdc6",
   "metadata": {},
   "source": [
    "# The `BoxSearch` class"
   ]
  },
  {
   "cell_type": "code",
   "execution_count": 7,
   "id": "3ba211d6-8fa9-4955-81a7-e12a884f4c08",
   "metadata": {},
   "outputs": [],
   "source": [
    "from neurolib.utils.parameterSpace import ParameterSpace\n",
    "from neurolib.optimize.exploration import BoxSearch\n",
    "\n",
    "# Create the model\n",
    "model = ALNModel()\n",
    "\n",
    "model.params['mui_ext_mean'] = 0.5"
   ]
  },
  {
   "cell_type": "markdown",
   "id": "1c656813-55b1-4fef-914b-6b5498c5b79c",
   "metadata": {},
   "source": [
    "## 1D bifurcation diagram"
   ]
  },
  {
   "cell_type": "code",
   "execution_count": 8,
   "id": "c7fa8d21-09c4-4ae0-acd2-f444cfdaecfe",
   "metadata": {},
   "outputs": [
    {
     "name": "stderr",
     "output_type": "stream",
     "text": [
      "MainProcess pypet.storageservice.HDF5StorageService INFO     I will use the hdf5 file `./data/hdf/exploration.hdf`.\n",
      "MainProcess pypet.environment.Environment INFO     Environment initialized.\n",
      "MainProcess root INFO     Number of parameter configurations: 25\n",
      "MainProcess root INFO     BoxSearch: Environment initialized.\n"
     ]
    }
   ],
   "source": [
    "parameters = ParameterSpace({\"mue_ext_mean\": np.linspace(0, 2, 25)})\n",
    "search = BoxSearch(model, parameters)"
   ]
  },
  {
   "cell_type": "code",
   "execution_count": 9,
   "id": "8700d82f-5022-4bd7-9e19-1c16996269ca",
   "metadata": {
    "scrolled": true,
    "tags": []
   },
   "outputs": [
    {
     "name": "stderr",
     "output_type": "stream",
     "text": [
      "MainProcess pypet.environment.Environment INFO     I am preparing the Trajectory for the experiment and initialise the store.\n",
      "MainProcess pypet.environment.Environment INFO     Initialising the storage for the trajectory.\n",
      "MainProcess pypet.storageservice.HDF5StorageService INFO     Initialising storage or updating meta data of Trajectory `results-2022-06-23-13H-34M-24S`.\n",
      "MainProcess pypet.storageservice.HDF5StorageService INFO     Finished init or meta data update for `results-2022-06-23-13H-34M-24S`.\n",
      "MainProcess pypet.environment.Environment INFO     \n",
      "************************************************************\n",
      "STARTING runs of trajectory\n",
      "`results-2022-06-23-13H-34M-24S`.\n",
      "************************************************************\n",
      "\n",
      "MainProcess pypet.storageservice.HDF5StorageService INFO     Initialising storage or updating meta data of Trajectory `results-2022-06-23-13H-34M-24S`.\n",
      "MainProcess pypet.storageservice.HDF5StorageService INFO     Finished init or meta data update for `results-2022-06-23-13H-34M-24S`.\n",
      "MainProcess pypet.environment.Environment INFO     Starting multiprocessing with at most 10 processes running at the same time.\n",
      "MainProcess pypet INFO     PROGRESS: Finished  0/25 runs [                    ]  0.0%\n",
      "MainProcess pypet INFO     PROGRESS: Finished  2/25 runs [=                   ]  8.0%, remaining: 0:00:23\n",
      "MainProcess pypet INFO     PROGRESS: Finished  3/25 runs [==                  ] 12.0%, remaining: 0:00:14\n",
      "MainProcess pypet INFO     PROGRESS: Finished  4/25 runs [===                 ] 16.0%, remaining: 0:00:10\n",
      "MainProcess pypet INFO     PROGRESS: Finished  5/25 runs [====                ] 20.0%, remaining: 0:00:08\n",
      "MainProcess pypet INFO     PROGRESS: Finished  7/25 runs [=====               ] 28.0%, remaining: 0:00:05\n",
      "MainProcess pypet INFO     PROGRESS: Finished  8/25 runs [======              ] 32.0%, remaining: 0:00:04\n",
      "MainProcess pypet INFO     PROGRESS: Finished  9/25 runs [=======             ] 36.0%, remaining: 0:00:03\n",
      "MainProcess pypet INFO     PROGRESS: Finished 10/25 runs [========            ] 40.0%, remaining: 0:00:03\n",
      "MainProcess pypet INFO     PROGRESS: Finished 12/25 runs [=========           ] 48.0%, remaining: 0:00:04\n",
      "MainProcess pypet INFO     PROGRESS: Finished 13/25 runs [==========          ] 52.0%, remaining: 0:00:03\n",
      "MainProcess pypet INFO     PROGRESS: Finished 14/25 runs [===========         ] 56.0%, remaining: 0:00:03\n",
      "MainProcess pypet INFO     PROGRESS: Finished 15/25 runs [============        ] 60.0%, remaining: 0:00:02\n",
      "MainProcess pypet INFO     PROGRESS: Finished 17/25 runs [=============       ] 68.0%, remaining: 0:00:01\n",
      "MainProcess pypet INFO     PROGRESS: Finished 18/25 runs [==============      ] 72.0%, remaining: 0:00:01\n",
      "MainProcess pypet INFO     PROGRESS: Finished 19/25 runs [===============     ] 76.0%, remaining: 0:00:01\n",
      "MainProcess pypet INFO     PROGRESS: Finished 20/25 runs [================    ] 80.0%, remaining: 0:00:01\n",
      "MainProcess pypet INFO     PROGRESS: Finished 22/25 runs [=================   ] 88.0%, remaining: 0:00:00\n",
      "MainProcess pypet INFO     PROGRESS: Finished 23/25 runs [==================  ] 92.0%, remaining: 0:00:00\n",
      "MainProcess pypet INFO     PROGRESS: Finished 24/25 runs [=================== ] 96.0%, remaining: 0:00:00\n",
      "MainProcess pypet INFO     PROGRESS: Finished 25/25 runs [====================]100.0%\n",
      "MainProcess pypet.storageservice.HDF5StorageService INFO     Initialising storage or updating meta data of Trajectory `results-2022-06-23-13H-34M-24S`.\n",
      "MainProcess pypet.storageservice.HDF5StorageService INFO     Finished init or meta data update for `results-2022-06-23-13H-34M-24S`.\n",
      "MainProcess pypet.environment.Environment INFO     \n",
      "************************************************************\n",
      "FINISHED all runs of trajectory\n",
      "`results-2022-06-23-13H-34M-24S`.\n",
      "************************************************************\n",
      "\n",
      "MainProcess pypet.environment.Environment INFO     \n",
      "************************************************************\n",
      "STARTING FINAL STORING of trajectory\n",
      "`results-2022-06-23-13H-34M-24S`\n",
      "************************************************************\n",
      "\n",
      "MainProcess pypet.storageservice.HDF5StorageService INFO     Start storing Trajectory `results-2022-06-23-13H-34M-24S`.\n",
      "MainProcess pypet.storageservice.HDF5StorageService INFO     Storing branch `config`.\n",
      "MainProcess pypet.storageservice.HDF5StorageService INFO     Storing branch `parameters`.\n",
      "MainProcess pypet.storageservice.HDF5StorageService INFO     Finished storing Trajectory `results-2022-06-23-13H-34M-24S`.\n",
      "MainProcess pypet.environment.Environment INFO     \n",
      "************************************************************\n",
      "FINISHED FINAL STORING of trajectory\n",
      "`results-2022-06-23-13H-34M-24S`.\n",
      "************************************************************\n",
      "\n",
      "MainProcess pypet.environment.Environment INFO     All runs of trajectory `results-2022-06-23-13H-34M-24S` were completed successfully.\n"
     ]
    }
   ],
   "source": [
    "search.run()"
   ]
  },
  {
   "cell_type": "code",
   "execution_count": 10,
   "id": "9ebf2030-62d7-40b4-a96b-64177f4b43ce",
   "metadata": {},
   "outputs": [
    {
     "name": "stderr",
     "output_type": "stream",
     "text": [
      "MainProcess root INFO     Loading results from ./data/hdf/exploration.hdf\n",
      "MainProcess root INFO     Analyzing trajectory results-2022-06-23-13H-34M-24S\n",
      "MainProcess pypet.storageservice.HDF5StorageService INFO     I will use the hdf5 file `./data/hdf/exploration.hdf`.\n",
      "MainProcess pypet.storageservice.HDF5StorageService INFO     Loading trajectory `results-2022-06-23-13H-34M-24S`.\n",
      "MainProcess pypet.storageservice.HDF5StorageService INFO     Loading branch `config` in mode `2`.\n",
      "MainProcess pypet.storageservice.HDF5StorageService INFO     Loading branch `parameters` in mode `2`.\n",
      "MainProcess pypet.storageservice.HDF5StorageService INFO     Loading branch `results` in mode `1`.\n",
      "MainProcess root INFO     Creating `dfResults` dataframe ...\n",
      "MainProcess root INFO     Loading all results to `results` dictionary ...\n",
      "100%|██████████| 25/25 [00:00<00:00, 301.15it/s]\n",
      "MainProcess root INFO     Aggregating results to `dfResults` ...\n",
      "100%|██████████| 25/25 [00:00<00:00, 3658.55it/s]\n",
      "MainProcess root INFO     All results loaded.\n"
     ]
    }
   ],
   "source": [
    "search.loadResults()"
   ]
  },
  {
   "cell_type": "code",
   "execution_count": 11,
   "id": "b8ef4b91-0c1f-4338-a92d-1d2f870f3daf",
   "metadata": {},
   "outputs": [
    {
     "name": "stdout",
     "output_type": "stream",
     "text": [
      "Number of results: 25\n"
     ]
    }
   ],
   "source": [
    "print(\"Number of results: {}\".format(len(search.results)))"
   ]
  },
  {
   "cell_type": "code",
   "execution_count": 12,
   "id": "25c7164d-5432-4e94-a1fb-686c5f1f56ec",
   "metadata": {
    "scrolled": true,
    "tags": []
   },
   "outputs": [
    {
     "data": {
      "text/plain": [
       "{0: {'t': array([1.0000e-01, 2.0000e-01, 3.0000e-01, ..., 1.9998e+03, 1.9999e+03,\n",
       "         2.0000e+03]),\n",
       "  'rates_exc': array([[2.35969738e+01, 2.06556726e+01, 1.81892489e+01, ...,\n",
       "          5.87732875e-04, 5.87733043e-04, 5.87733211e-04]])},\n",
       " 1: {'t': array([1.0000e-01, 2.0000e-01, 3.0000e-01, ..., 1.9998e+03, 1.9999e+03,\n",
       "         2.0000e+03]),\n",
       "  'rates_exc': array([[2.35969738e+01, 2.06556726e+01, 1.81913925e+01, ...,\n",
       "          2.55156669e-03, 2.55156747e-03, 2.55156825e-03]])},\n",
       " 2: {'t': array([1.0000e-01, 2.0000e-01, 3.0000e-01, ..., 1.9998e+03, 1.9999e+03,\n",
       "         2.0000e+03]),\n",
       "  'rates_exc': array([[2.35969738e+01, 2.06556726e+01, 1.81935360e+01, ...,\n",
       "          9.87192281e-03, 9.87192601e-03, 9.87192921e-03]])},\n",
       " 3: {'t': array([1.0000e-01, 2.0000e-01, 3.0000e-01, ..., 1.9998e+03, 1.9999e+03,\n",
       "         2.0000e+03]),\n",
       "  'rates_exc': array([[23.59697378, 20.65567257, 18.19567954, ...,  0.03564475,\n",
       "           0.03564475,  0.03564476]])},\n",
       " 4: {'t': array([1.0000e-01, 2.0000e-01, 3.0000e-01, ..., 1.9998e+03, 1.9999e+03,\n",
       "         2.0000e+03]),\n",
       "  'rates_exc': array([[23.59697378, 20.65567257, 18.19782308, ...,  0.121139  ,\n",
       "           0.12113903,  0.12113906]])},\n",
       " 5: {'t': array([1.0000e-01, 2.0000e-01, 3.0000e-01, ..., 1.9998e+03, 1.9999e+03,\n",
       "         2.0000e+03]),\n",
       "  'rates_exc': array([[23.59697378, 20.65567257, 18.19996662, ...,  0.3730655 ,\n",
       "           0.37306559,  0.37306567]])},\n",
       " 6: {'t': array([1.0000e-01, 2.0000e-01, 3.0000e-01, ..., 1.9998e+03, 1.9999e+03,\n",
       "         2.0000e+03]),\n",
       "  'rates_exc': array([[23.59697378, 20.65567257, 18.20211016, ...,  0.86641007,\n",
       "           0.8664151 ,  0.86641874]])},\n",
       " 7: {'t': array([1.0000e-01, 2.0000e-01, 3.0000e-01, ..., 1.9998e+03, 1.9999e+03,\n",
       "         2.0000e+03]),\n",
       "  'rates_exc': array([[23.59697378, 20.65567257, 18.2042537 , ...,  0.10321907,\n",
       "           0.10573325,  0.10826705]])},\n",
       " 8: {'t': array([1.0000e-01, 2.0000e-01, 3.0000e-01, ..., 1.9998e+03, 1.9999e+03,\n",
       "         2.0000e+03]),\n",
       "  'rates_exc': array([[23.59697378, 20.65567257, 18.20639724, ...,  3.9738984 ,\n",
       "           4.04131805,  4.1093351 ]])},\n",
       " 9: {'t': array([1.0000e-01, 2.0000e-01, 3.0000e-01, ..., 1.9998e+03, 1.9999e+03,\n",
       "         2.0000e+03]),\n",
       "  'rates_exc': array([[2.35969738e+01, 2.06556726e+01, 1.82085408e+01, ...,\n",
       "          8.27199831e-03, 8.17924550e-03, 8.09333384e-03]])},\n",
       " 10: {'t': array([1.0000e-01, 2.0000e-01, 3.0000e-01, ..., 1.9998e+03, 1.9999e+03,\n",
       "         2.0000e+03]),\n",
       "  'rates_exc': array([[23.59697378, 20.65567257, 18.21068432, ..., 15.38989347,\n",
       "          15.79897321, 16.21635022]])},\n",
       " 11: {'t': array([1.0000e-01, 2.0000e-01, 3.0000e-01, ..., 1.9998e+03, 1.9999e+03,\n",
       "         2.0000e+03]),\n",
       "  'rates_exc': array([[23.59697378, 20.65567257, 18.21282786, ...,  6.61762647,\n",
       "           6.44327923,  6.27034572]])},\n",
       " 12: {'t': array([1.0000e-01, 2.0000e-01, 3.0000e-01, ..., 1.9998e+03, 1.9999e+03,\n",
       "         2.0000e+03]),\n",
       "  'rates_exc': array([[23.59697378, 20.65567257, 18.21497141, ..., 13.82959653,\n",
       "          13.52502595, 13.22972538]])},\n",
       " 13: {'t': array([1.0000e-01, 2.0000e-01, 3.0000e-01, ..., 1.9998e+03, 1.9999e+03,\n",
       "         2.0000e+03]),\n",
       "  'rates_exc': array([[23.59697378, 20.65567257, 18.21711495, ...,  5.95201432,\n",
       "           6.17246005,  6.40266026]])},\n",
       " 14: {'t': array([1.0000e-01, 2.0000e-01, 3.0000e-01, ..., 1.9998e+03, 1.9999e+03,\n",
       "         2.0000e+03]),\n",
       "  'rates_exc': array([[23.59697378, 20.65567257, 18.21925849, ...,  1.62351242,\n",
       "           1.58993855,  1.55650655]])},\n",
       " 15: {'t': array([1.0000e-01, 2.0000e-01, 3.0000e-01, ..., 1.9998e+03, 1.9999e+03,\n",
       "         2.0000e+03]),\n",
       "  'rates_exc': array([[23.59697378, 20.65567257, 18.22140203, ...,  1.53759769,\n",
       "           1.5418348 ,  1.54657137]])},\n",
       " 16: {'t': array([1.0000e-01, 2.0000e-01, 3.0000e-01, ..., 1.9998e+03, 1.9999e+03,\n",
       "         2.0000e+03]),\n",
       "  'rates_exc': array([[23.59697378, 20.65567257, 18.22354557, ..., 30.86722271,\n",
       "          30.94085526, 30.99877198]])},\n",
       " 17: {'t': array([1.0000e-01, 2.0000e-01, 3.0000e-01, ..., 1.9998e+03, 1.9999e+03,\n",
       "         2.0000e+03]),\n",
       "  'rates_exc': array([[23.59697378, 20.65567257, 18.22568911, ..., 10.97046768,\n",
       "          10.97048653, 10.97050548]])},\n",
       " 18: {'t': array([1.0000e-01, 2.0000e-01, 3.0000e-01, ..., 1.9998e+03, 1.9999e+03,\n",
       "         2.0000e+03]),\n",
       "  'rates_exc': array([[23.59697378, 20.65567257, 18.22783265, ..., 14.48306753,\n",
       "          14.48306839, 14.48306926]])},\n",
       " 19: {'t': array([1.0000e-01, 2.0000e-01, 3.0000e-01, ..., 1.9998e+03, 1.9999e+03,\n",
       "         2.0000e+03]),\n",
       "  'rates_exc': array([[23.59697378, 20.65567257, 18.22997619, ..., 18.8174788 ,\n",
       "          18.81747976, 18.81748072]])},\n",
       " 20: {'t': array([1.0000e-01, 2.0000e-01, 3.0000e-01, ..., 1.9998e+03, 1.9999e+03,\n",
       "         2.0000e+03]),\n",
       "  'rates_exc': array([[23.59697378, 20.65567257, 18.23211974, ..., 23.1633647 ,\n",
       "          23.16336562, 23.16336654]])},\n",
       " 21: {'t': array([1.0000e-01, 2.0000e-01, 3.0000e-01, ..., 1.9998e+03, 1.9999e+03,\n",
       "         2.0000e+03]),\n",
       "  'rates_exc': array([[23.59697378, 20.65567257, 18.23426328, ..., 27.24706482,\n",
       "          27.24706568, 27.24706653]])},\n",
       " 22: {'t': array([1.0000e-01, 2.0000e-01, 3.0000e-01, ..., 1.9998e+03, 1.9999e+03,\n",
       "         2.0000e+03]),\n",
       "  'rates_exc': array([[23.59697378, 20.65567257, 18.23640682, ..., 31.07428746,\n",
       "          31.07428827, 31.07428908]])},\n",
       " 23: {'t': array([1.0000e-01, 2.0000e-01, 3.0000e-01, ..., 1.9998e+03, 1.9999e+03,\n",
       "         2.0000e+03]),\n",
       "  'rates_exc': array([[23.59697378, 20.65567257, 18.23855036, ..., 34.69329795,\n",
       "          34.69329871, 34.69329948]])},\n",
       " 24: {'t': array([1.0000e-01, 2.0000e-01, 3.0000e-01, ..., 1.9998e+03, 1.9999e+03,\n",
       "         2.0000e+03]),\n",
       "  'rates_exc': array([[23.59697378, 20.65567257, 18.2406939 , ..., 38.14631668,\n",
       "          38.14631741, 38.14631814]])}}"
      ]
     },
     "execution_count": 12,
     "metadata": {},
     "output_type": "execute_result"
    }
   ],
   "source": [
    "search.results"
   ]
  },
  {
   "cell_type": "code",
   "execution_count": 13,
   "id": "17af55b1-cd66-4ec2-ae62-cf2c5fea0f8d",
   "metadata": {},
   "outputs": [
    {
     "data": {
      "text/plain": [
       "{'t': array([1.0000e-01, 2.0000e-01, 3.0000e-01, ..., 1.9998e+03, 1.9999e+03,\n",
       "        2.0000e+03]),\n",
       " 'rates_exc': array([[2.35969738e+01, 2.06556726e+01, 1.81892489e+01, ...,\n",
       "         5.87732875e-04, 5.87733043e-04, 5.87733211e-04]])}"
      ]
     },
     "execution_count": 13,
     "metadata": {},
     "output_type": "execute_result"
    }
   ],
   "source": [
    "search.results[0]"
   ]
  },
  {
   "cell_type": "markdown",
   "id": "8cd98577-ed6e-43c8-8baf-4a73f320588b",
   "metadata": {},
   "source": [
    "### Postprocessing - min and max rate"
   ]
  },
  {
   "cell_type": "code",
   "execution_count": 14,
   "id": "970e1933-3fb6-47b0-8784-d985b7338085",
   "metadata": {},
   "outputs": [],
   "source": [
    "for key, value in search.results.items():\n",
    "    search.results[key][\"max_r\"] = np.max(search.results[key]['rates_exc'][0, -int(1000/model.params['dt']):])\n",
    "    search.results[key][\"min_r\"] = np.min(search.results[key]['rates_exc'][0, -int(1000/model.params['dt']):])"
   ]
  },
  {
   "cell_type": "code",
   "execution_count": 15,
   "id": "d20b3e68-aaaf-4915-9097-939ec72e4dcb",
   "metadata": {},
   "outputs": [
    {
     "data": {
      "text/plain": [
       "{'t': array([1.0000e-01, 2.0000e-01, 3.0000e-01, ..., 1.9998e+03, 1.9999e+03,\n",
       "        2.0000e+03]),\n",
       " 'rates_exc': array([[2.35969738e+01, 2.06556726e+01, 1.81892489e+01, ...,\n",
       "         5.87732875e-04, 5.87733043e-04, 5.87733211e-04]]),\n",
       " 'max_r': 0.0005877332109950252,\n",
       " 'min_r': 0.0005381989480895755}"
      ]
     },
     "execution_count": 15,
     "metadata": {},
     "output_type": "execute_result"
    }
   ],
   "source": [
    "search.results[0]"
   ]
  },
  {
   "cell_type": "code",
   "execution_count": 16,
   "id": "0ef7aa2f-eeec-4d7d-b16f-5fc062671a6e",
   "metadata": {},
   "outputs": [
    {
     "data": {
      "text/plain": [
       "Text(0, 0.5, 'Min / max firing rate')"
      ]
     },
     "execution_count": 16,
     "metadata": {},
     "output_type": "execute_result"
    },
    {
     "data": {
      "image/png": "[encoded data removed]",
      "text/plain": [
       "<Figure size 432x288 with 1 Axes>"
      ]
     },
     "metadata": {
      "needs_background": "light"
     },
     "output_type": "display_data"
    }
   ],
   "source": [
    "plt.plot(parameters.mue_ext_mean, [value['max_r'] for key, value in search.results.items()], c='k', lw = 2)\n",
    "plt.plot(parameters.mue_ext_mean, [value['min_r'] for key, value in search.results.items()], c='k', lw = 2)\n",
    "plt.title(\"Bifurcation diagram of the aln model\")\n",
    "plt.xlabel(\"Input to excitatory population\")\n",
    "plt.ylabel(\"Min / max firing rate\")"
   ]
  },
  {
   "cell_type": "markdown",
   "id": "b25bad90-3786-4797-8c07-c33bc213e361",
   "metadata": {
    "tags": []
   },
   "source": [
    "## 2D bifurcation diagram"
   ]
  },
  {
   "cell_type": "code",
   "execution_count": 17,
   "id": "bb65dd12-7d63-4eaf-b948-a1617a64e935",
   "metadata": {},
   "outputs": [
    {
     "name": "stderr",
     "output_type": "stream",
     "text": [
      "MainProcess root INFO     Assuming parameter kind \"grid\"\n",
      "MainProcess root INFO     Number of processes: 10\n",
      "MainProcess pypet.storageservice.HDF5StorageService INFO     I will use the hdf5 file `./data/hdf/exploration.hdf`.\n",
      "MainProcess pypet.environment.Environment INFO     Environment initialized.\n",
      "MainProcess root INFO     Number of parameter configurations: 100\n",
      "MainProcess root INFO     BoxSearch: Environment initialized.\n"
     ]
    }
   ],
   "source": [
    "parameters = ParameterSpace({\"mue_ext_mean\": np.linspace(0.1, 3, 10), \"mui_ext_mean\": np.linspace(0.1, 3, 10)})\n",
    "\n",
    "search = BoxSearch(model, parameters)"
   ]
  },
  {
   "cell_type": "code",
   "execution_count": 18,
   "id": "b7b664b2-19b5-455a-ad00-e8204374bfed",
   "metadata": {
    "scrolled": true,
    "tags": []
   },
   "outputs": [
    {
     "name": "stderr",
     "output_type": "stream",
     "text": [
      "MainProcess pypet.environment.Environment INFO     I am preparing the Trajectory for the experiment and initialise the store.\n",
      "MainProcess pypet.environment.Environment INFO     Initialising the storage for the trajectory.\n",
      "MainProcess pypet.storageservice.HDF5StorageService INFO     Initialising storage or updating meta data of Trajectory `results-2022-06-23-13H-34M-33S`.\n",
      "MainProcess pypet.storageservice.HDF5StorageService INFO     Finished init or meta data update for `results-2022-06-23-13H-34M-33S`.\n",
      "MainProcess pypet.environment.Environment INFO     \n",
      "************************************************************\n",
      "STARTING runs of trajectory\n",
      "`results-2022-06-23-13H-34M-33S`.\n",
      "************************************************************\n",
      "\n",
      "MainProcess pypet.storageservice.HDF5StorageService INFO     Initialising storage or updating meta data of Trajectory `results-2022-06-23-13H-34M-33S`.\n",
      "MainProcess pypet.storageservice.HDF5StorageService INFO     Finished init or meta data update for `results-2022-06-23-13H-34M-33S`.\n",
      "MainProcess pypet.environment.Environment INFO     Starting multiprocessing with at most 10 processes running at the same time.\n",
      "MainProcess pypet INFO     PROGRESS: Finished   0/100 runs [                    ]  0.0%\n",
      "MainProcess pypet INFO     PROGRESS: Finished   5/100 runs [=                   ]  5.0%, remaining: 0:00:41\n",
      "MainProcess pypet INFO     PROGRESS: Finished  10/100 runs [==                  ] 10.0%, remaining: 0:00:20\n",
      "MainProcess pypet INFO     PROGRESS: Finished  15/100 runs [===                 ] 15.0%, remaining: 0:00:23\n",
      "MainProcess pypet INFO     PROGRESS: Finished  20/100 runs [====                ] 20.0%, remaining: 0:00:17\n",
      "MainProcess pypet INFO     PROGRESS: Finished  25/100 runs [=====               ] 25.0%, remaining: 0:00:18\n",
      "MainProcess pypet INFO     PROGRESS: Finished  30/100 runs [======              ] 30.0%, remaining: 0:00:14\n",
      "MainProcess pypet INFO     PROGRESS: Finished  35/100 runs [=======             ] 35.0%, remaining: 0:00:15\n",
      "MainProcess pypet INFO     PROGRESS: Finished  40/100 runs [========            ] 40.0%, remaining: 0:00:12\n",
      "MainProcess pypet INFO     PROGRESS: Finished  45/100 runs [=========           ] 45.0%, remaining: 0:00:12\n",
      "MainProcess pypet INFO     PROGRESS: Finished  50/100 runs [==========          ] 50.0%, remaining: 0:00:10\n",
      "MainProcess pypet INFO     PROGRESS: Finished  55/100 runs [===========         ] 55.0%, remaining: 0:00:09\n",
      "MainProcess pypet INFO     PROGRESS: Finished  60/100 runs [============        ] 60.0%, remaining: 0:00:08\n",
      "MainProcess pypet INFO     PROGRESS: Finished  65/100 runs [=============       ] 65.0%, remaining: 0:00:07\n",
      "MainProcess pypet INFO     PROGRESS: Finished  70/100 runs [==============      ] 70.0%, remaining: 0:00:06\n",
      "MainProcess pypet INFO     PROGRESS: Finished  75/100 runs [===============     ] 75.0%, remaining: 0:00:05\n",
      "MainProcess pypet INFO     PROGRESS: Finished  80/100 runs [================    ] 80.0%, remaining: 0:00:04\n",
      "MainProcess pypet INFO     PROGRESS: Finished  85/100 runs [=================   ] 85.0%, remaining: 0:00:03\n",
      "MainProcess pypet INFO     PROGRESS: Finished  90/100 runs [==================  ] 90.0%, remaining: 0:00:02\n",
      "MainProcess pypet INFO     PROGRESS: Finished  95/100 runs [=================== ] 95.0%, remaining: 0:00:01\n",
      "MainProcess pypet INFO     PROGRESS: Finished 100/100 runs [====================]100.0%\n",
      "MainProcess pypet.storageservice.HDF5StorageService INFO     Initialising storage or updating meta data of Trajectory `results-2022-06-23-13H-34M-33S`.\n",
      "MainProcess pypet.storageservice.HDF5StorageService INFO     Finished init or meta data update for `results-2022-06-23-13H-34M-33S`.\n",
      "MainProcess pypet.environment.Environment INFO     \n",
      "************************************************************\n",
      "FINISHED all runs of trajectory\n",
      "`results-2022-06-23-13H-34M-33S`.\n",
      "************************************************************\n",
      "\n",
      "MainProcess pypet.environment.Environment INFO     \n",
      "************************************************************\n",
      "STARTING FINAL STORING of trajectory\n",
      "`results-2022-06-23-13H-34M-33S`\n",
      "************************************************************\n",
      "\n",
      "MainProcess pypet.storageservice.HDF5StorageService INFO     Start storing Trajectory `results-2022-06-23-13H-34M-33S`.\n",
      "MainProcess pypet.storageservice.HDF5StorageService INFO     Storing branch `config`.\n",
      "MainProcess pypet.storageservice.HDF5StorageService INFO     Storing branch `parameters`.\n",
      "MainProcess pypet.storageservice.HDF5StorageService INFO     Finished storing Trajectory `results-2022-06-23-13H-34M-33S`.\n",
      "MainProcess pypet.environment.Environment INFO     \n",
      "************************************************************\n",
      "FINISHED FINAL STORING of trajectory\n",
      "`results-2022-06-23-13H-34M-33S`.\n",
      "************************************************************\n",
      "\n",
      "MainProcess pypet.environment.Environment INFO     All runs of trajectory `results-2022-06-23-13H-34M-33S` were completed successfully.\n"
     ]
    }
   ],
   "source": [
    "search.run()"
   ]
  },
  {
   "cell_type": "code",
   "execution_count": 19,
   "id": "189f7337-61ef-425a-b2b0-3ac642068fa1",
   "metadata": {},
   "outputs": [
    {
     "name": "stderr",
     "output_type": "stream",
     "text": [
      "MainProcess root INFO     Loading results from ./data/hdf/exploration.hdf\n",
      "MainProcess root INFO     Analyzing trajectory results-2022-06-23-13H-34M-33S\n",
      "MainProcess pypet.storageservice.HDF5StorageService INFO     I will use the hdf5 file `./data/hdf/exploration.hdf`.\n",
      "MainProcess pypet.storageservice.HDF5StorageService INFO     Loading trajectory `results-2022-06-23-13H-34M-33S`.\n",
      "MainProcess pypet.storageservice.HDF5StorageService INFO     Loading branch `config` in mode `2`.\n",
      "MainProcess pypet.storageservice.HDF5StorageService INFO     Loading branch `parameters` in mode `2`.\n",
      "MainProcess pypet.storageservice.HDF5StorageService INFO     Loading branch `results` in mode `1`.\n",
      "MainProcess root INFO     Creating `dfResults` dataframe ...\n",
      "MainProcess root INFO     Loading all results to `results` dictionary ...\n",
      "100%|██████████| 100/100 [00:00<00:00, 352.80it/s]\n",
      "MainProcess root INFO     Aggregating results to `dfResults` ...\n",
      "100%|██████████| 100/100 [00:00<00:00, 4625.34it/s]\n",
      "MainProcess root INFO     All results loaded.\n"
     ]
    }
   ],
   "source": [
    "search.loadResults()"
   ]
  },
  {
   "cell_type": "code",
   "execution_count": 20,
   "id": "8af684dc-80dc-4aad-a9e6-e076a9252d18",
   "metadata": {},
   "outputs": [
    {
     "name": "stdout",
     "output_type": "stream",
     "text": [
      "Number of results: 100\n"
     ]
    }
   ],
   "source": [
    "print(\"Number of results: {}\".format(len(search.results)))"
   ]
  },
  {
   "cell_type": "code",
   "execution_count": 21,
   "id": "ad18be0c-8880-4c2d-baa9-ed1d25b39190",
   "metadata": {
    "scrolled": true,
    "tags": []
   },
   "outputs": [
    {
     "data": {
      "text/html": [
       "<div>\n",
       "<style scoped>\n",
       "    .dataframe tbody tr th:only-of-type {\n",
       "        vertical-align: middle;\n",
       "    }\n",
       "\n",
       "    .dataframe tbody tr th {\n",
       "        vertical-align: top;\n",
       "    }\n",
       "\n",
       "    .dataframe thead th {\n",
       "        text-align: right;\n",
       "    }\n",
       "</style>\n",
       "<table border=\"1\" class=\"dataframe\">\n",
       "  <thead>\n",
       "    <tr style=\"text-align: right;\">\n",
       "      <th></th>\n",
       "      <th>mue_ext_mean</th>\n",
       "      <th>mui_ext_mean</th>\n",
       "      <th>t</th>\n",
       "      <th>rates_exc</th>\n",
       "    </tr>\n",
       "  </thead>\n",
       "  <tbody>\n",
       "    <tr>\n",
       "      <th>0</th>\n",
       "      <td>0.1</td>\n",
       "      <td>0.100000</td>\n",
       "      <td>[0.1, 0.2, 0.30000000000000004, 0.4, 0.5, 0.60...</td>\n",
       "      <td>[[23.5969737766663, 20.655672574366264, 18.191...</td>\n",
       "    </tr>\n",
       "    <tr>\n",
       "      <th>1</th>\n",
       "      <td>0.1</td>\n",
       "      <td>0.422222</td>\n",
       "      <td>[0.1, 0.2, 0.30000000000000004, 0.4, 0.5, 0.60...</td>\n",
       "      <td>[[23.5969737766663, 20.655672574366264, 18.191...</td>\n",
       "    </tr>\n",
       "    <tr>\n",
       "      <th>2</th>\n",
       "      <td>0.1</td>\n",
       "      <td>0.744444</td>\n",
       "      <td>[0.1, 0.2, 0.30000000000000004, 0.4, 0.5, 0.60...</td>\n",
       "      <td>[[23.5969737766663, 20.655672574366264, 18.191...</td>\n",
       "    </tr>\n",
       "    <tr>\n",
       "      <th>3</th>\n",
       "      <td>0.1</td>\n",
       "      <td>1.066667</td>\n",
       "      <td>[0.1, 0.2, 0.30000000000000004, 0.4, 0.5, 0.60...</td>\n",
       "      <td>[[23.5969737766663, 20.655672574366264, 18.191...</td>\n",
       "    </tr>\n",
       "    <tr>\n",
       "      <th>4</th>\n",
       "      <td>0.1</td>\n",
       "      <td>1.388889</td>\n",
       "      <td>[0.1, 0.2, 0.30000000000000004, 0.4, 0.5, 0.60...</td>\n",
       "      <td>[[23.5969737766663, 20.655672574366264, 18.191...</td>\n",
       "    </tr>\n",
       "    <tr>\n",
       "      <th>...</th>\n",
       "      <td>...</td>\n",
       "      <td>...</td>\n",
       "      <td>...</td>\n",
       "      <td>...</td>\n",
       "    </tr>\n",
       "    <tr>\n",
       "      <th>95</th>\n",
       "      <td>3.0</td>\n",
       "      <td>1.711111</td>\n",
       "      <td>[0.1, 0.2, 0.30000000000000004, 0.4, 0.5, 0.60...</td>\n",
       "      <td>[[23.5969737766663, 20.655672574366264, 18.266...</td>\n",
       "    </tr>\n",
       "    <tr>\n",
       "      <th>96</th>\n",
       "      <td>3.0</td>\n",
       "      <td>2.033333</td>\n",
       "      <td>[0.1, 0.2, 0.30000000000000004, 0.4, 0.5, 0.60...</td>\n",
       "      <td>[[23.5969737766663, 20.655672574366264, 18.266...</td>\n",
       "    </tr>\n",
       "    <tr>\n",
       "      <th>97</th>\n",
       "      <td>3.0</td>\n",
       "      <td>2.355556</td>\n",
       "      <td>[0.1, 0.2, 0.30000000000000004, 0.4, 0.5, 0.60...</td>\n",
       "      <td>[[23.5969737766663, 20.655672574366264, 18.266...</td>\n",
       "    </tr>\n",
       "    <tr>\n",
       "      <th>98</th>\n",
       "      <td>3.0</td>\n",
       "      <td>2.677778</td>\n",
       "      <td>[0.1, 0.2, 0.30000000000000004, 0.4, 0.5, 0.60...</td>\n",
       "      <td>[[23.5969737766663, 20.655672574366264, 18.266...</td>\n",
       "    </tr>\n",
       "    <tr>\n",
       "      <th>99</th>\n",
       "      <td>3.0</td>\n",
       "      <td>3.000000</td>\n",
       "      <td>[0.1, 0.2, 0.30000000000000004, 0.4, 0.5, 0.60...</td>\n",
       "      <td>[[23.5969737766663, 20.655672574366264, 18.266...</td>\n",
       "    </tr>\n",
       "  </tbody>\n",
       "</table>\n",
       "<p>100 rows × 4 columns</p>\n",
       "</div>"
      ],
      "text/plain": [
       "    mue_ext_mean  mui_ext_mean  \\\n",
       "0            0.1      0.100000   \n",
       "1            0.1      0.422222   \n",
       "2            0.1      0.744444   \n",
       "3            0.1      1.066667   \n",
       "4            0.1      1.388889   \n",
       "..           ...           ...   \n",
       "95           3.0      1.711111   \n",
       "96           3.0      2.033333   \n",
       "97           3.0      2.355556   \n",
       "98           3.0      2.677778   \n",
       "99           3.0      3.000000   \n",
       "\n",
       "                                                    t  \\\n",
       "0   [0.1, 0.2, 0.30000000000000004, 0.4, 0.5, 0.60...   \n",
       "1   [0.1, 0.2, 0.30000000000000004, 0.4, 0.5, 0.60...   \n",
       "2   [0.1, 0.2, 0.30000000000000004, 0.4, 0.5, 0.60...   \n",
       "3   [0.1, 0.2, 0.30000000000000004, 0.4, 0.5, 0.60...   \n",
       "4   [0.1, 0.2, 0.30000000000000004, 0.4, 0.5, 0.60...   \n",
       "..                                                ...   \n",
       "95  [0.1, 0.2, 0.30000000000000004, 0.4, 0.5, 0.60...   \n",
       "96  [0.1, 0.2, 0.30000000000000004, 0.4, 0.5, 0.60...   \n",
       "97  [0.1, 0.2, 0.30000000000000004, 0.4, 0.5, 0.60...   \n",
       "98  [0.1, 0.2, 0.30000000000000004, 0.4, 0.5, 0.60...   \n",
       "99  [0.1, 0.2, 0.30000000000000004, 0.4, 0.5, 0.60...   \n",
       "\n",
       "                                            rates_exc  \n",
       "0   [[23.5969737766663, 20.655672574366264, 18.191...  \n",
       "1   [[23.5969737766663, 20.655672574366264, 18.191...  \n",
       "2   [[23.5969737766663, 20.655672574366264, 18.191...  \n",
       "3   [[23.5969737766663, 20.655672574366264, 18.191...  \n",
       "4   [[23.5969737766663, 20.655672574366264, 18.191...  \n",
       "..                                                ...  \n",
       "95  [[23.5969737766663, 20.655672574366264, 18.266...  \n",
       "96  [[23.5969737766663, 20.655672574366264, 18.266...  \n",
       "97  [[23.5969737766663, 20.655672574366264, 18.266...  \n",
       "98  [[23.5969737766663, 20.655672574366264, 18.266...  \n",
       "99  [[23.5969737766663, 20.655672574366264, 18.266...  \n",
       "\n",
       "[100 rows x 4 columns]"
      ]
     },
     "execution_count": 21,
     "metadata": {},
     "output_type": "execute_result"
    }
   ],
   "source": [
    "search.dfResults"
   ]
  },
  {
   "cell_type": "code",
   "execution_count": 22,
   "id": "2a3f1b8f-e463-4487-a3ab-d559a1979615",
   "metadata": {
    "scrolled": true,
    "tags": []
   },
   "outputs": [],
   "source": [
    "# Example analysis of the results\n",
    "# The .results attribute is a list and can be indexed by the run \n",
    "# number (which is also the index of the pandas dataframe .dfResults).\n",
    "# Here we compute the maximum firing rate of the node in the last second\n",
    "# and add the result (a float) to the pandas dataframe.\n",
    "for i in search.dfResults.index:\n",
    "    search.dfResults.loc[i, 'max_r'] = np.max(search.results[i]['rates_exc'][:, -int(1000/model.params['dt']):])\n",
    "    search.dfResults.loc[i, 'amp'] = search.dfResults.loc[i, 'max_r'] - np.min(search.results[i]['rates_exc'][:, -int(1000/model.params['dt']):])"
   ]
  },
  {
   "cell_type": "code",
   "execution_count": 23,
   "id": "88f655b2-d39e-4adb-aff2-62812ccffd38",
   "metadata": {
    "scrolled": true,
    "tags": []
   },
   "outputs": [
    {
     "data": {
      "text/html": [
       "<div>\n",
       "<style scoped>\n",
       "    .dataframe tbody tr th:only-of-type {\n",
       "        vertical-align: middle;\n",
       "    }\n",
       "\n",
       "    .dataframe tbody tr th {\n",
       "        vertical-align: top;\n",
       "    }\n",
       "\n",
       "    .dataframe thead th {\n",
       "        text-align: right;\n",
       "    }\n",
       "</style>\n",
       "<table border=\"1\" class=\"dataframe\">\n",
       "  <thead>\n",
       "    <tr style=\"text-align: right;\">\n",
       "      <th></th>\n",
       "      <th>mue_ext_mean</th>\n",
       "      <th>mui_ext_mean</th>\n",
       "      <th>t</th>\n",
       "      <th>rates_exc</th>\n",
       "      <th>max_r</th>\n",
       "      <th>amp</th>\n",
       "    </tr>\n",
       "  </thead>\n",
       "  <tbody>\n",
       "    <tr>\n",
       "      <th>0</th>\n",
       "      <td>0.1</td>\n",
       "      <td>0.100000</td>\n",
       "      <td>[0.1, 0.2, 0.30000000000000004, 0.4, 0.5, 0.60...</td>\n",
       "      <td>[[23.5969737766663, 20.655672574366264, 18.191...</td>\n",
       "      <td>2.193370e-01</td>\n",
       "      <td>3.954259e-02</td>\n",
       "    </tr>\n",
       "    <tr>\n",
       "      <th>1</th>\n",
       "      <td>0.1</td>\n",
       "      <td>0.422222</td>\n",
       "      <td>[0.1, 0.2, 0.30000000000000004, 0.4, 0.5, 0.60...</td>\n",
       "      <td>[[23.5969737766663, 20.655672574366264, 18.191...</td>\n",
       "      <td>7.895313e-03</td>\n",
       "      <td>7.024136e-04</td>\n",
       "    </tr>\n",
       "    <tr>\n",
       "      <th>2</th>\n",
       "      <td>0.1</td>\n",
       "      <td>0.744444</td>\n",
       "      <td>[0.1, 0.2, 0.30000000000000004, 0.4, 0.5, 0.60...</td>\n",
       "      <td>[[23.5969737766663, 20.655672574366264, 18.191...</td>\n",
       "      <td>9.007540e-05</td>\n",
       "      <td>7.583742e-06</td>\n",
       "    </tr>\n",
       "    <tr>\n",
       "      <th>3</th>\n",
       "      <td>0.1</td>\n",
       "      <td>1.066667</td>\n",
       "      <td>[0.1, 0.2, 0.30000000000000004, 0.4, 0.5, 0.60...</td>\n",
       "      <td>[[23.5969737766663, 20.655672574366264, 18.191...</td>\n",
       "      <td>8.128591e-08</td>\n",
       "      <td>9.757634e-09</td>\n",
       "    </tr>\n",
       "    <tr>\n",
       "      <th>4</th>\n",
       "      <td>0.1</td>\n",
       "      <td>1.388889</td>\n",
       "      <td>[0.1, 0.2, 0.30000000000000004, 0.4, 0.5, 0.60...</td>\n",
       "      <td>[[23.5969737766663, 20.655672574366264, 18.191...</td>\n",
       "      <td>3.898084e-10</td>\n",
       "      <td>0.000000e+00</td>\n",
       "    </tr>\n",
       "    <tr>\n",
       "      <th>...</th>\n",
       "      <td>...</td>\n",
       "      <td>...</td>\n",
       "      <td>...</td>\n",
       "      <td>...</td>\n",
       "      <td>...</td>\n",
       "      <td>...</td>\n",
       "    </tr>\n",
       "    <tr>\n",
       "      <th>95</th>\n",
       "      <td>3.0</td>\n",
       "      <td>1.711111</td>\n",
       "      <td>[0.1, 0.2, 0.30000000000000004, 0.4, 0.5, 0.60...</td>\n",
       "      <td>[[23.5969737766663, 20.655672574366264, 18.266...</td>\n",
       "      <td>6.616279e+01</td>\n",
       "      <td>1.763871e-01</td>\n",
       "    </tr>\n",
       "    <tr>\n",
       "      <th>96</th>\n",
       "      <td>3.0</td>\n",
       "      <td>2.033333</td>\n",
       "      <td>[0.1, 0.2, 0.30000000000000004, 0.4, 0.5, 0.60...</td>\n",
       "      <td>[[23.5969737766663, 20.655672574366264, 18.266...</td>\n",
       "      <td>6.528711e+01</td>\n",
       "      <td>1.776719e-01</td>\n",
       "    </tr>\n",
       "    <tr>\n",
       "      <th>97</th>\n",
       "      <td>3.0</td>\n",
       "      <td>2.355556</td>\n",
       "      <td>[0.1, 0.2, 0.30000000000000004, 0.4, 0.5, 0.60...</td>\n",
       "      <td>[[23.5969737766663, 20.655672574366264, 18.266...</td>\n",
       "      <td>6.458583e+01</td>\n",
       "      <td>1.788263e-01</td>\n",
       "    </tr>\n",
       "    <tr>\n",
       "      <th>98</th>\n",
       "      <td>3.0</td>\n",
       "      <td>2.677778</td>\n",
       "      <td>[0.1, 0.2, 0.30000000000000004, 0.4, 0.5, 0.60...</td>\n",
       "      <td>[[23.5969737766663, 20.655672574366264, 18.266...</td>\n",
       "      <td>6.401181e+01</td>\n",
       "      <td>1.798938e-01</td>\n",
       "    </tr>\n",
       "    <tr>\n",
       "      <th>99</th>\n",
       "      <td>3.0</td>\n",
       "      <td>3.000000</td>\n",
       "      <td>[0.1, 0.2, 0.30000000000000004, 0.4, 0.5, 0.60...</td>\n",
       "      <td>[[23.5969737766663, 20.655672574366264, 18.266...</td>\n",
       "      <td>6.353358e+01</td>\n",
       "      <td>1.808962e-01</td>\n",
       "    </tr>\n",
       "  </tbody>\n",
       "</table>\n",
       "<p>100 rows × 6 columns</p>\n",
       "</div>"
      ],
      "text/plain": [
       "    mue_ext_mean  mui_ext_mean  \\\n",
       "0            0.1      0.100000   \n",
       "1            0.1      0.422222   \n",
       "2            0.1      0.744444   \n",
       "3            0.1      1.066667   \n",
       "4            0.1      1.388889   \n",
       "..           ...           ...   \n",
       "95           3.0      1.711111   \n",
       "96           3.0      2.033333   \n",
       "97           3.0      2.355556   \n",
       "98           3.0      2.677778   \n",
       "99           3.0      3.000000   \n",
       "\n",
       "                                                    t  \\\n",
       "0   [0.1, 0.2, 0.30000000000000004, 0.4, 0.5, 0.60...   \n",
       "1   [0.1, 0.2, 0.30000000000000004, 0.4, 0.5, 0.60...   \n",
       "2   [0.1, 0.2, 0.30000000000000004, 0.4, 0.5, 0.60...   \n",
       "3   [0.1, 0.2, 0.30000000000000004, 0.4, 0.5, 0.60...   \n",
       "4   [0.1, 0.2, 0.30000000000000004, 0.4, 0.5, 0.60...   \n",
       "..                                                ...   \n",
       "95  [0.1, 0.2, 0.30000000000000004, 0.4, 0.5, 0.60...   \n",
       "96  [0.1, 0.2, 0.30000000000000004, 0.4, 0.5, 0.60...   \n",
       "97  [0.1, 0.2, 0.30000000000000004, 0.4, 0.5, 0.60...   \n",
       "98  [0.1, 0.2, 0.30000000000000004, 0.4, 0.5, 0.60...   \n",
       "99  [0.1, 0.2, 0.30000000000000004, 0.4, 0.5, 0.60...   \n",
       "\n",
       "                                            rates_exc         max_r  \\\n",
       "0   [[23.5969737766663, 20.655672574366264, 18.191...  2.193370e-01   \n",
       "1   [[23.5969737766663, 20.655672574366264, 18.191...  7.895313e-03   \n",
       "2   [[23.5969737766663, 20.655672574366264, 18.191...  9.007540e-05   \n",
       "3   [[23.5969737766663, 20.655672574366264, 18.191...  8.128591e-08   \n",
       "4   [[23.5969737766663, 20.655672574366264, 18.191...  3.898084e-10   \n",
       "..                                                ...           ...   \n",
       "95  [[23.5969737766663, 20.655672574366264, 18.266...  6.616279e+01   \n",
       "96  [[23.5969737766663, 20.655672574366264, 18.266...  6.528711e+01   \n",
       "97  [[23.5969737766663, 20.655672574366264, 18.266...  6.458583e+01   \n",
       "98  [[23.5969737766663, 20.655672574366264, 18.266...  6.401181e+01   \n",
       "99  [[23.5969737766663, 20.655672574366264, 18.266...  6.353358e+01   \n",
       "\n",
       "             amp  \n",
       "0   3.954259e-02  \n",
       "1   7.024136e-04  \n",
       "2   7.583742e-06  \n",
       "3   9.757634e-09  \n",
       "4   0.000000e+00  \n",
       "..           ...  \n",
       "95  1.763871e-01  \n",
       "96  1.776719e-01  \n",
       "97  1.788263e-01  \n",
       "98  1.798938e-01  \n",
       "99  1.808962e-01  \n",
       "\n",
       "[100 rows x 6 columns]"
      ]
     },
     "execution_count": 23,
     "metadata": {},
     "output_type": "execute_result"
    }
   ],
   "source": [
    "search.dfResults"
   ]
  },
  {
   "cell_type": "code",
   "execution_count": 31,
   "id": "ddf6fa3f-29dc-46fb-bad5-9f84f124396f",
   "metadata": {},
   "outputs": [
    {
     "data": {
      "image/png": "[encoded data removed]",
      "text/plain": [
       "<Figure size 750x600 with 2 Axes>"
      ]
     },
     "metadata": {
      "needs_background": "light"
     },
     "output_type": "display_data"
    }
   ],
   "source": [
    "import neurolib.optimize.exploration.explorationUtils as eu\n",
    "\n",
    "eu.plotExplorationResults(search.dfResults, \n",
    "                          par1=['mue_ext_mean', '$\\mu_e$'], \n",
    "                          par2=['mui_ext_mean', '$\\mu_i$'], \n",
    "                          plot_key='max_r',\n",
    "                          plot_clim=[0.0, 80.0],\n",
    "                          nan_to_zero=False,\n",
    "                          plot_key_label=\"Max. $r_E$ [Hz]\", \n",
    "                          one_figure=False,\n",
    "                          contour=[\"amp\"],\n",
    "                          contour_color=[['springgreen']],\n",
    "                          contour_levels=[[10]],\n",
    "                          contour_alpha=[1.0],\n",
    "                          contour_kwargs={0 : {\"linewidths\" : (5,)}, 1 : {\"linestyles\" : \"--\", \"linewidths\" : (5,)}},\n",
    "                         )"
   ]
  },
  {
   "cell_type": "markdown",
   "id": "94f6eac6-98a7-4f6e-8331-5665f37c2de3",
   "metadata": {},
   "source": [
    "# 2 - Parameter exploration with custom evaluation function"
   ]
  },
  {
   "cell_type": "markdown",
   "id": "ddbbb9a6-776c-49c7-a16f-3dfedc5b5fac",
   "metadata": {},
   "source": [
    "## Define the evaluation function\n",
    "Here we define a very simple evaluation function. The function needs to take in `traj` as an argument, which is the pypet trajectory. This is how the function knows what parameters were assigned to it. Using the builtin function `search.getParametersFromTraj(traj)` we can then retrieve the parameters for this run. They are returned as a dictionary and can be accessed in the function. \n",
    "\n",
    "In the last step, we use `search.saveToPypet(result_dict, traj)` to save the results to the pypet trajectory and to an HDF. In between, the computational magic happens!"
   ]
  },
  {
   "cell_type": "code",
   "execution_count": 32,
   "id": "eca8f952-1262-47f4-b617-26ab8e82ba45",
   "metadata": {},
   "outputs": [
    {
     "name": "stderr",
     "output_type": "stream",
     "text": [
      "MainProcess root INFO     Assuming parameter kind \"grid\"\n"
     ]
    }
   ],
   "source": [
    "parameters = ParameterSpace({\"x\": np.linspace(-2, 2, 21), \"y\": np.linspace(-2, 2, 21)})"
   ]
  },
  {
   "cell_type": "markdown",
   "id": "ab9e9b34-7191-45f4-a5cf-f461c2bd7230",
   "metadata": {},
   "source": [
    "In this example, we define a toy example: The evaluation function will simply be the distance of an x and y coordinate to the unit circle. In a real-world experiment, this function would actually run a model and make some measurements on its outputs that should be stored. An example would be to run a model and measure the dominant oscillation frequency and store that value."
   ]
  },
  {
   "cell_type": "code",
   "execution_count": 33,
   "id": "c104e051-1660-4f0c-ad16-c89ec5889b69",
   "metadata": {
    "scrolled": true,
    "tags": []
   },
   "outputs": [
    {
     "name": "stderr",
     "output_type": "stream",
     "text": [
      "MainProcess root INFO     Assuming parameter kind \"grid\"\n",
      "MainProcess root INFO     Number of processes: 10\n",
      "MainProcess pypet.storageservice.HDF5StorageService INFO     I will use the hdf5 file `./data/hdf/exploration.hdf`.\n",
      "MainProcess pypet.environment.Environment INFO     Environment initialized.\n",
      "MainProcess root INFO     Number of parameter configurations: 441\n",
      "MainProcess root INFO     BoxSearch: Environment initialized.\n",
      "MainProcess pypet.environment.Environment INFO     I am preparing the Trajectory for the experiment and initialise the store.\n",
      "MainProcess pypet.environment.Environment INFO     Initialising the storage for the trajectory.\n",
      "MainProcess pypet.storageservice.HDF5StorageService INFO     Initialising storage or updating meta data of Trajectory `results-2022-06-23-13H-43M-22S`.\n",
      "MainProcess pypet.storageservice.HDF5StorageService INFO     Finished init or meta data update for `results-2022-06-23-13H-43M-22S`.\n",
      "MainProcess pypet.environment.Environment INFO     \n",
      "************************************************************\n",
      "STARTING runs of trajectory\n",
      "`results-2022-06-23-13H-43M-22S`.\n",
      "************************************************************\n",
      "\n",
      "MainProcess pypet.storageservice.HDF5StorageService INFO     Initialising storage or updating meta data of Trajectory `results-2022-06-23-13H-43M-22S`.\n",
      "MainProcess pypet.storageservice.HDF5StorageService INFO     Finished init or meta data update for `results-2022-06-23-13H-43M-22S`.\n",
      "MainProcess pypet.environment.Environment INFO     Starting multiprocessing with at most 10 processes running at the same time.\n",
      "MainProcess pypet INFO     PROGRESS: Finished   0/441 runs [                    ]  0.0%\n",
      "MainProcess pypet INFO     PROGRESS: Finished  23/441 runs [=                   ]  5.2%, remaining: 0:00:04\n",
      "MainProcess pypet INFO     PROGRESS: Finished  45/441 runs [==                  ] 10.2%, remaining: 0:00:04\n",
      "MainProcess pypet INFO     PROGRESS: Finished  67/441 runs [===                 ] 15.2%, remaining: 0:00:04\n",
      "MainProcess pypet INFO     PROGRESS: Finished  89/441 runs [====                ] 20.2%, remaining: 0:00:04\n",
      "MainProcess pypet INFO     PROGRESS: Finished 111/441 runs [=====               ] 25.2%, remaining: 0:00:04\n",
      "MainProcess pypet INFO     PROGRESS: Finished 133/441 runs [======              ] 30.2%, remaining: 0:00:03\n",
      "MainProcess pypet INFO     PROGRESS: Finished 155/441 runs [=======             ] 35.1%, remaining: 0:00:03\n",
      "MainProcess pypet INFO     PROGRESS: Finished 177/441 runs [========            ] 40.1%, remaining: 0:00:03\n",
      "MainProcess pypet INFO     PROGRESS: Finished 199/441 runs [=========           ] 45.1%, remaining: 0:00:02\n",
      "MainProcess pypet INFO     PROGRESS: Finished 221/441 runs [==========          ] 50.1%, remaining: 0:00:02\n",
      "MainProcess pypet INFO     PROGRESS: Finished 243/441 runs [===========         ] 55.1%, remaining: 0:00:02\n",
      "MainProcess pypet INFO     PROGRESS: Finished 265/441 runs [============        ] 60.1%, remaining: 0:00:02\n",
      "MainProcess pypet INFO     PROGRESS: Finished 287/441 runs [=============       ] 65.1%, remaining: 0:00:01\n",
      "MainProcess pypet INFO     PROGRESS: Finished 309/441 runs [==============      ] 70.1%, remaining: 0:00:01\n",
      "MainProcess pypet INFO     PROGRESS: Finished 331/441 runs [===============     ] 75.1%, remaining: 0:00:01\n",
      "MainProcess pypet INFO     PROGRESS: Finished 353/441 runs [================    ] 80.0%, remaining: 0:00:01\n",
      "MainProcess pypet INFO     PROGRESS: Finished 375/441 runs [=================   ] 85.0%, remaining: 0:00:00\n",
      "MainProcess pypet INFO     PROGRESS: Finished 397/441 runs [==================  ] 90.0%, remaining: 0:00:00\n",
      "MainProcess pypet INFO     PROGRESS: Finished 419/441 runs [=================== ] 95.0%, remaining: 0:00:00\n",
      "MainProcess pypet INFO     PROGRESS: Finished 441/441 runs [====================]100.0%\n",
      "MainProcess pypet.storageservice.HDF5StorageService INFO     Initialising storage or updating meta data of Trajectory `results-2022-06-23-13H-43M-22S`.\n",
      "MainProcess pypet.storageservice.HDF5StorageService INFO     Finished init or meta data update for `results-2022-06-23-13H-43M-22S`.\n",
      "MainProcess pypet.environment.Environment INFO     \n",
      "************************************************************\n",
      "FINISHED all runs of trajectory\n",
      "`results-2022-06-23-13H-43M-22S`.\n",
      "************************************************************\n",
      "\n",
      "MainProcess pypet.environment.Environment INFO     \n",
      "************************************************************\n",
      "STARTING FINAL STORING of trajectory\n",
      "`results-2022-06-23-13H-43M-22S`\n",
      "************************************************************\n",
      "\n",
      "MainProcess pypet.storageservice.HDF5StorageService INFO     Start storing Trajectory `results-2022-06-23-13H-43M-22S`.\n",
      "MainProcess pypet.storageservice.HDF5StorageService INFO     Storing branch `config`.\n",
      "MainProcess pypet.storageservice.HDF5StorageService INFO     Storing branch `parameters`.\n",
      "MainProcess pypet.storageservice.HDF5StorageService INFO     Finished storing Trajectory `results-2022-06-23-13H-43M-22S`.\n",
      "MainProcess pypet.environment.Environment INFO     \n",
      "************************************************************\n",
      "FINISHED FINAL STORING of trajectory\n",
      "`results-2022-06-23-13H-43M-22S`.\n",
      "************************************************************\n",
      "\n",
      "MainProcess pypet.environment.Environment INFO     All runs of trajectory `results-2022-06-23-13H-43M-22S` were completed successfully.\n"
     ]
    }
   ],
   "source": [
    "def explore_me(traj):\n",
    "    pars = search.getParametersFromTraj(traj)\n",
    "    result_dict = {\"distance\" : abs((pars['x']**2 + pars['y']**2) - 1)}\n",
    "    search.saveToPypet(result_dict, traj)"
   ]
  },
  {
   "cell_type": "markdown",
   "id": "191f2dd6-47cd-44d5-9d4a-93d0920302d4",
   "metadata": {},
   "source": [
    "## Define the parameter space and exploration\n",
    "\n",
    "Here we define which space we want to cover. For this, we use the builtin class `ParameterSpace` which provides a very easy interface to the exploration. To initialize the exploration, we simply pass the evaluation function and the parameter space to the `BoxSearch` class."
   ]
  },
  {
   "cell_type": "code",
   "execution_count": 34,
   "id": "0551d915-d564-401a-ab39-24ba83d7cbaf",
   "metadata": {},
   "outputs": [
    {
     "name": "stderr",
     "output_type": "stream",
     "text": [
      "MainProcess root INFO     Assuming parameter kind \"grid\"\n",
      "MainProcess root INFO     Number of processes: 10\n",
      "MainProcess pypet.storageservice.HDF5StorageService INFO     I will use the hdf5 file `./data/hdf/example-1.1.hdf`.\n",
      "MainProcess pypet.environment.Environment INFO     Environment initialized.\n",
      "MainProcess root INFO     Number of parameter configurations: 1600\n",
      "MainProcess root INFO     BoxSearch: Environment initialized.\n"
     ]
    }
   ],
   "source": [
    "parameters = ParameterSpace({\"x\": np.linspace(-2, 2, 40), \"y\": np.linspace(-2, 2, 40)})\n",
    "search = BoxSearch(evalFunction = explore_me, parameterSpace = parameters, filename=\"example-1.1.hdf\")"
   ]
  },
  {
   "cell_type": "markdown",
   "id": "9d94ba81-e73f-4658-ab6c-e245b894e19b",
   "metadata": {},
   "source": [
    "## Run\n",
    "\n",
    "And off we go!"
   ]
  },
  {
   "cell_type": "code",
   "execution_count": 35,
   "id": "bb5020b0-ded9-4496-8d08-a575d51a0b7a",
   "metadata": {
    "scrolled": true,
    "tags": []
   },
   "outputs": [
    {
     "name": "stderr",
     "output_type": "stream",
     "text": [
      "MainProcess pypet.environment.Environment INFO     I am preparing the Trajectory for the experiment and initialise the store.\n",
      "MainProcess pypet.environment.Environment INFO     Initialising the storage for the trajectory.\n",
      "MainProcess pypet.storageservice.HDF5StorageService INFO     Initialising storage or updating meta data of Trajectory `results-2022-06-23-13H-43M-28S`.\n",
      "MainProcess pypet.storageservice.HDF5StorageService INFO     Finished init or meta data update for `results-2022-06-23-13H-43M-28S`.\n",
      "MainProcess pypet.environment.Environment INFO     \n",
      "************************************************************\n",
      "STARTING runs of trajectory\n",
      "`results-2022-06-23-13H-43M-28S`.\n",
      "************************************************************\n",
      "\n",
      "MainProcess pypet.storageservice.HDF5StorageService INFO     Initialising storage or updating meta data of Trajectory `results-2022-06-23-13H-43M-28S`.\n",
      "MainProcess pypet.storageservice.HDF5StorageService INFO     Finished init or meta data update for `results-2022-06-23-13H-43M-28S`.\n",
      "MainProcess pypet.environment.Environment INFO     Starting multiprocessing with at most 10 processes running at the same time.\n",
      "MainProcess pypet INFO     PROGRESS: Finished    0/1600 runs [                    ]  0.0%\n",
      "MainProcess pypet INFO     PROGRESS: Finished   80/1600 runs [=                   ]  5.0%, remaining: 0:00:17\n",
      "MainProcess pypet INFO     PROGRESS: Finished  160/1600 runs [==                  ] 10.0%, remaining: 0:00:16\n",
      "MainProcess pypet INFO     PROGRESS: Finished  240/1600 runs [===                 ] 15.0%, remaining: 0:00:15\n",
      "MainProcess pypet INFO     PROGRESS: Finished  320/1600 runs [====                ] 20.0%, remaining: 0:00:15\n",
      "MainProcess pypet INFO     PROGRESS: Finished  400/1600 runs [=====               ] 25.0%, remaining: 0:00:14\n",
      "MainProcess pypet INFO     PROGRESS: Finished  480/1600 runs [======              ] 30.0%, remaining: 0:00:14\n",
      "MainProcess pypet INFO     PROGRESS: Finished  560/1600 runs [=======             ] 35.0%, remaining: 0:00:13\n",
      "MainProcess pypet INFO     PROGRESS: Finished  640/1600 runs [========            ] 40.0%, remaining: 0:00:12\n",
      "MainProcess pypet INFO     PROGRESS: Finished  720/1600 runs [=========           ] 45.0%, remaining: 0:00:14\n",
      "MainProcess pypet INFO     PROGRESS: Finished  800/1600 runs [==========          ] 50.0%, remaining: 0:00:13\n",
      "MainProcess pypet INFO     PROGRESS: Finished  880/1600 runs [===========         ] 55.0%, remaining: 0:00:12\n",
      "MainProcess pypet INFO     PROGRESS: Finished  960/1600 runs [============        ] 60.0%, remaining: 0:00:10\n",
      "MainProcess pypet INFO     PROGRESS: Finished 1040/1600 runs [=============       ] 65.0%, remaining: 0:00:09\n",
      "MainProcess pypet INFO     PROGRESS: Finished 1120/1600 runs [==============      ] 70.0%, remaining: 0:00:08\n",
      "MainProcess pypet INFO     PROGRESS: Finished 1200/1600 runs [===============     ] 75.0%, remaining: 0:00:07\n",
      "MainProcess pypet INFO     PROGRESS: Finished 1280/1600 runs [================    ] 80.0%, remaining: 0:00:05\n",
      "MainProcess pypet INFO     PROGRESS: Finished 1360/1600 runs [=================   ] 85.0%, remaining: 0:00:04\n",
      "MainProcess pypet INFO     PROGRESS: Finished 1440/1600 runs [==================  ] 90.0%, remaining: 0:00:03\n",
      "MainProcess pypet INFO     PROGRESS: Finished 1520/1600 runs [=================== ] 95.0%, remaining: 0:00:01\n",
      "MainProcess pypet INFO     PROGRESS: Finished 1600/1600 runs [====================]100.0%\n",
      "MainProcess pypet.storageservice.HDF5StorageService INFO     Initialising storage or updating meta data of Trajectory `results-2022-06-23-13H-43M-28S`.\n",
      "MainProcess pypet.storageservice.HDF5StorageService INFO     Finished init or meta data update for `results-2022-06-23-13H-43M-28S`.\n",
      "MainProcess pypet.environment.Environment INFO     \n",
      "************************************************************\n",
      "FINISHED all runs of trajectory\n",
      "`results-2022-06-23-13H-43M-28S`.\n",
      "************************************************************\n",
      "\n",
      "MainProcess pypet.environment.Environment INFO     \n",
      "************************************************************\n",
      "STARTING FINAL STORING of trajectory\n",
      "`results-2022-06-23-13H-43M-28S`\n",
      "************************************************************\n",
      "\n",
      "MainProcess pypet.storageservice.HDF5StorageService INFO     Start storing Trajectory `results-2022-06-23-13H-43M-28S`.\n",
      "MainProcess pypet.storageservice.HDF5StorageService INFO     Storing branch `config`.\n",
      "MainProcess pypet.storageservice.HDF5StorageService INFO     Storing branch `parameters`.\n",
      "MainProcess pypet.storageservice.HDF5StorageService INFO     Finished storing Trajectory `results-2022-06-23-13H-43M-28S`.\n",
      "MainProcess pypet.environment.Environment INFO     \n",
      "************************************************************\n",
      "FINISHED FINAL STORING of trajectory\n",
      "`results-2022-06-23-13H-43M-28S`.\n",
      "************************************************************\n",
      "\n",
      "MainProcess pypet.environment.Environment INFO     All runs of trajectory `results-2022-06-23-13H-43M-28S` were completed successfully.\n"
     ]
    }
   ],
   "source": [
    "search.run()"
   ]
  },
  {
   "cell_type": "markdown",
   "id": "f7251984-9af5-4706-8c7e-6ee793503625",
   "metadata": {
    "tags": []
   },
   "source": [
    "## Get results\n",
    "\n",
    "We can easily obtain the results from pypet. First we call `search.loadResults()` to make sure that the results are loaded from the hdf file to our instance."
   ]
  },
  {
   "cell_type": "code",
   "execution_count": 36,
   "id": "1c01328e-3640-4e1c-b6b9-2f76b7497a53",
   "metadata": {},
   "outputs": [
    {
     "name": "stderr",
     "output_type": "stream",
     "text": [
      "MainProcess root INFO     Loading results from ./data/hdf/example-1.1.hdf\n",
      "MainProcess root INFO     Analyzing trajectory results-2022-06-23-13H-43M-28S\n",
      "MainProcess pypet.storageservice.HDF5StorageService INFO     I will use the hdf5 file `./data/hdf/example-1.1.hdf`.\n",
      "MainProcess pypet.storageservice.HDF5StorageService INFO     Loading trajectory `results-2022-06-23-13H-43M-28S`.\n",
      "MainProcess pypet.storageservice.HDF5StorageService INFO     Loading branch `config` in mode `2`.\n",
      "MainProcess pypet.storageservice.HDF5StorageService INFO     Loading branch `parameters` in mode `2`.\n",
      "MainProcess pypet.storageservice.HDF5StorageService INFO     Loading branch `results` in mode `1`.\n",
      "MainProcess root INFO     Creating `dfResults` dataframe ...\n",
      "MainProcess root INFO     Loading all results to `results` dictionary ...\n",
      "100%|██████████| 1600/1600 [00:02<00:00, 651.09it/s]\n",
      "MainProcess root INFO     Aggregating results to `dfResults` ...\n",
      "100%|██████████| 1600/1600 [00:00<00:00, 7955.18it/s]\n",
      "MainProcess root INFO     All results loaded.\n"
     ]
    },
    {
     "name": "stdout",
     "output_type": "stream",
     "text": [
      "Number of results: 1600\n"
     ]
    }
   ],
   "source": [
    "search.loadResults()\n",
    "print(\"Number of results: {}\".format(len(search.results)))"
   ]
  },
  {
   "cell_type": "markdown",
   "id": "1138959e-816a-4058-8c9d-e829c1743237",
   "metadata": {},
   "source": [
    "The runs are also ordered in a simple pandas dataframe called `search.dfResults`. We cycle through all results by calling `search.results[i]` and loading the desired result (here the distance to the circle) into the dataframe"
   ]
  },
  {
   "cell_type": "code",
   "execution_count": 37,
   "id": "873854e3-1f49-4b5a-baf7-d0380a1190af",
   "metadata": {},
   "outputs": [
    {
     "data": {
      "text/html": [
       "<div>\n",
       "<style scoped>\n",
       "    .dataframe tbody tr th:only-of-type {\n",
       "        vertical-align: middle;\n",
       "    }\n",
       "\n",
       "    .dataframe tbody tr th {\n",
       "        vertical-align: top;\n",
       "    }\n",
       "\n",
       "    .dataframe thead th {\n",
       "        text-align: right;\n",
       "    }\n",
       "</style>\n",
       "<table border=\"1\" class=\"dataframe\">\n",
       "  <thead>\n",
       "    <tr style=\"text-align: right;\">\n",
       "      <th></th>\n",
       "      <th>x</th>\n",
       "      <th>y</th>\n",
       "      <th>distance</th>\n",
       "    </tr>\n",
       "  </thead>\n",
       "  <tbody>\n",
       "    <tr>\n",
       "      <th>0</th>\n",
       "      <td>-2.0</td>\n",
       "      <td>-2.000000</td>\n",
       "      <td>7.000000</td>\n",
       "    </tr>\n",
       "    <tr>\n",
       "      <th>1</th>\n",
       "      <td>-2.0</td>\n",
       "      <td>-1.897436</td>\n",
       "      <td>6.600263</td>\n",
       "    </tr>\n",
       "    <tr>\n",
       "      <th>2</th>\n",
       "      <td>-2.0</td>\n",
       "      <td>-1.794872</td>\n",
       "      <td>6.221565</td>\n",
       "    </tr>\n",
       "    <tr>\n",
       "      <th>3</th>\n",
       "      <td>-2.0</td>\n",
       "      <td>-1.692308</td>\n",
       "      <td>5.863905</td>\n",
       "    </tr>\n",
       "    <tr>\n",
       "      <th>4</th>\n",
       "      <td>-2.0</td>\n",
       "      <td>-1.589744</td>\n",
       "      <td>5.527285</td>\n",
       "    </tr>\n",
       "    <tr>\n",
       "      <th>...</th>\n",
       "      <td>...</td>\n",
       "      <td>...</td>\n",
       "      <td>...</td>\n",
       "    </tr>\n",
       "    <tr>\n",
       "      <th>1595</th>\n",
       "      <td>2.0</td>\n",
       "      <td>1.589744</td>\n",
       "      <td>5.527285</td>\n",
       "    </tr>\n",
       "    <tr>\n",
       "      <th>1596</th>\n",
       "      <td>2.0</td>\n",
       "      <td>1.692308</td>\n",
       "      <td>5.863905</td>\n",
       "    </tr>\n",
       "    <tr>\n",
       "      <th>1597</th>\n",
       "      <td>2.0</td>\n",
       "      <td>1.794872</td>\n",
       "      <td>6.221565</td>\n",
       "    </tr>\n",
       "    <tr>\n",
       "      <th>1598</th>\n",
       "      <td>2.0</td>\n",
       "      <td>1.897436</td>\n",
       "      <td>6.600263</td>\n",
       "    </tr>\n",
       "    <tr>\n",
       "      <th>1599</th>\n",
       "      <td>2.0</td>\n",
       "      <td>2.000000</td>\n",
       "      <td>7.000000</td>\n",
       "    </tr>\n",
       "  </tbody>\n",
       "</table>\n",
       "<p>1600 rows × 3 columns</p>\n",
       "</div>"
      ],
      "text/plain": [
       "        x         y  distance\n",
       "0    -2.0 -2.000000  7.000000\n",
       "1    -2.0 -1.897436  6.600263\n",
       "2    -2.0 -1.794872  6.221565\n",
       "3    -2.0 -1.692308  5.863905\n",
       "4    -2.0 -1.589744  5.527285\n",
       "...   ...       ...       ...\n",
       "1595  2.0  1.589744  5.527285\n",
       "1596  2.0  1.692308  5.863905\n",
       "1597  2.0  1.794872  6.221565\n",
       "1598  2.0  1.897436  6.600263\n",
       "1599  2.0  2.000000  7.000000\n",
       "\n",
       "[1600 rows x 3 columns]"
      ]
     },
     "execution_count": 37,
     "metadata": {},
     "output_type": "execute_result"
    }
   ],
   "source": [
    "search.dfResults"
   ]
  },
  {
   "cell_type": "markdown",
   "id": "4ffadce5-bb9d-490c-9c19-dac72f346390",
   "metadata": {},
   "source": [
    "And of course a plot can visualize the results very easily."
   ]
  },
  {
   "cell_type": "code",
   "execution_count": 38,
   "id": "9a7a4785-6017-4c17-a981-73b65d282fb6",
   "metadata": {},
   "outputs": [
    {
     "data": {
      "text/plain": [
       "<matplotlib.colorbar.Colorbar at 0x7ff4a6ae3150>"
      ]
     },
     "execution_count": 38,
     "metadata": {},
     "output_type": "execute_result"
    },
    {
     "data": {
      "image/png": "[encoded data removed]",
      "text/plain": [
       "<Figure size 432x288 with 2 Axes>"
      ]
     },
     "metadata": {
      "needs_background": "light"
     },
     "output_type": "display_data"
    }
   ],
   "source": [
    "plt.imshow(search.dfResults.pivot_table(values='distance', index = 'x', columns='y'), \\\n",
    "           extent = [min(search.dfResults.x), max(search.dfResults.x),\n",
    "                     min(search.dfResults.y), max(search.dfResults.y)], origin='lower')\n",
    "plt.colorbar(label='Distance to the unit circle')"
   ]
  },
  {
   "cell_type": "markdown",
   "id": "37efadf2-9cbb-4ca0-9d93-f51173cb6dd7",
   "metadata": {},
   "source": [
    "# 3 - Brain network exploration"
   ]
  },
  {
   "cell_type": "code",
   "execution_count": 39,
   "id": "8ac00ed4-a94d-490b-b733-4eb23e5afd39",
   "metadata": {},
   "outputs": [
    {
     "name": "stderr",
     "output_type": "stream",
     "text": [
      "MainProcess root INFO     Loading dataset hcp from /Users/cc/Documents/PhD/projects/neurolib/neurolib/utils/../data/datasets/hcp.\n",
      "MainProcess root INFO     Dataset hcp loaded.\n"
     ]
    }
   ],
   "source": [
    "from neurolib.utils.loadData import Dataset\n",
    "ds = Dataset(\"hcp\")"
   ]
  },
  {
   "cell_type": "markdown",
   "id": "2aed0dc6-5711-4716-a660-f429eb0e8ba4",
   "metadata": {
    "tags": []
   },
   "source": [
    "## Set up model"
   ]
  },
  {
   "cell_type": "code",
   "execution_count": 40,
   "id": "ee72adac-8c4a-45a5-8dd9-da4f0c43d0ad",
   "metadata": {},
   "outputs": [
    {
     "name": "stderr",
     "output_type": "stream",
     "text": [
      "MainProcess root INFO     aln: Model initialized.\n"
     ]
    }
   ],
   "source": [
    "model = ALNModel(Cmat = ds.Cmat, Dmat = ds.Dmat) # simulates the whole-brain model in 10s chunks by default if bold == True\n",
    "# Resting state fits\n",
    "model.params['mue_ext_mean'] = 1.57\n",
    "model.params['mui_ext_mean'] = 1.6\n",
    "model.params['sigma_ou'] = 0.09\n",
    "model.params['b'] = 5.0\n",
    "model.params['dt'] = 0.2\n",
    "model.params['duration'] = 1.0 * 60 * 1000 #ms"
   ]
  },
  {
   "cell_type": "markdown",
   "id": "dc0cf1b2-9ac8-4fe2-8dc7-446780a908dc",
   "metadata": {},
   "source": [
    "## Define evaluation function"
   ]
  },
  {
   "cell_type": "code",
   "execution_count": 41,
   "id": "35095a02-fc79-4315-9d65-ed051e1498f4",
   "metadata": {},
   "outputs": [],
   "source": [
    "def evaluateSimulation(traj):\n",
    "    # get the model from the trajectory using `search.getModelFromTraj(traj)`\n",
    "    model = search.getModelFromTraj(traj)\n",
    "    # initiate the model with random initial contitions\n",
    "    model.randomICs()\n",
    "    defaultDuration = model.params['duration']\n",
    "    invalid_result = {\"fc\" : np.nan, \"fcd\" : np.nan}\n",
    "    \n",
    "    # -------- STAGEWISE EVALUATION  --------\n",
    "    stagewise = True\n",
    "    if stagewise:\n",
    "        # -------- stage wise simulation --------\n",
    "\n",
    "        # Stage 1 : simulate for a few seconds to see if there is any activity\n",
    "        # ---------------------------------------\n",
    "        model.params['duration'] = 3*1000.\n",
    "        model.run()\n",
    "\n",
    "        # check if stage 1 was successful\n",
    "        amplitude = np.max(model.output[:, model.t > 500]) - np.min(model.output[:, model.t > 500])\n",
    "        if amplitude < 0.05:\n",
    "            search.saveToPypet(invalid_result, traj)\n",
    "            return invalid_result, {}\n",
    "\n",
    "        # Stage 2: simulate BOLD for a few seconds to see if it moves\n",
    "        # ---------------------------------------\n",
    "        model.params['duration'] = 30*1000.\n",
    "        model.run(chunkwise=True, bold = True)\n",
    "\n",
    "        if np.max(np.std(model.outputs.BOLD.BOLD[:, 10:15], axis=1)) < 1e-5:\n",
    "            search.saveToPypet(invalid_result, traj)\n",
    "            return invalid_result, {}\n",
    "    \n",
    "    # Stage 3: full and final simulation\n",
    "    # ---------------------------------------\n",
    "    model.params['duration'] = defaultDuration\n",
    "    model.run(chunkwise=True, bold = True)\n",
    "    \n",
    "    # -------- POSTPROCESSING  --------\n",
    "    # FC matrix correlation to all subject rs-fMRI\n",
    "    BOLD_TRANSIENT = 10000\n",
    "    fc_score = np.mean([func.matrix_correlation(func.fc(model.BOLD.BOLD[:, model.BOLD.t_BOLD > BOLD_TRANSIENT]), fc) for fc in ds.FCs])\n",
    "    \n",
    "    # FCD to all subject rs-fMRI\n",
    "    try:\n",
    "        fcd_score = np.mean([func.ts_kolmogorov(model.BOLD.BOLD[:, model.BOLD.t_BOLD > BOLD_TRANSIENT], ds.BOLDs[i]) for i in range(len(ds.BOLDs))])\n",
    "    except:\n",
    "        fcd_score = np.nan\n",
    "      \n",
    "    # let's build the results dictionary\n",
    "    result_dict = {\"fc\" : fc_score, \"fcd\" : fcd_score}\n",
    "    # we could also save the output of the model by adding to the results_dict like this:\n",
    "    # result_dict = {\"fc\" : fc_score, \"fcd\" : fcd_score, \"outputs\" : model.outputs}\n",
    "    \n",
    "    # Save the results to pypet. \n",
    "    # Remember: This has to be dictionary!\n",
    "    search.saveToPypet(result_dict, traj)"
   ]
  },
  {
   "cell_type": "markdown",
   "id": "d58fdec3-2a7d-4202-84b0-0bc9c8960268",
   "metadata": {},
   "source": [
    "## Set up parameter exploration"
   ]
  },
  {
   "cell_type": "code",
   "execution_count": 42,
   "id": "42e548cd-c29d-4046-b921-a3108b5d9a63",
   "metadata": {},
   "outputs": [
    {
     "name": "stderr",
     "output_type": "stream",
     "text": [
      "MainProcess root INFO     Assuming parameter kind \"grid\"\n",
      "MainProcess root INFO     Number of processes: 10\n",
      "MainProcess pypet.storageservice.HDF5StorageService INFO     I will use the hdf5 file `./data/hdf/example-1.2.1.hdf`.\n",
      "MainProcess pypet.environment.Environment INFO     Environment initialized.\n",
      "MainProcess root INFO     Number of parameter configurations: 10\n",
      "MainProcess root INFO     BoxSearch: Environment initialized.\n"
     ]
    }
   ],
   "source": [
    "parameters = ParameterSpace({\"mue_ext_mean\": np.linspace(0, 2.0, 10)})\n",
    "search = BoxSearch(evalFunction = evaluateSimulation, model=model, parameterSpace=parameters, filename=\"example-1.2.1.hdf\")"
   ]
  },
  {
   "cell_type": "code",
   "execution_count": 43,
   "id": "88025918-9cc9-44e2-888c-eb84a997bb21",
   "metadata": {},
   "outputs": [
    {
     "name": "stderr",
     "output_type": "stream",
     "text": [
      "MainProcess pypet.environment.Environment INFO     I am preparing the Trajectory for the experiment and initialise the store.\n",
      "MainProcess pypet.environment.Environment INFO     Initialising the storage for the trajectory.\n",
      "MainProcess pypet.storageservice.HDF5StorageService INFO     Initialising storage or updating meta data of Trajectory `results-2022-06-23-13H-44M-04S`.\n",
      "MainProcess pypet.storageservice.HDF5StorageService INFO     Finished init or meta data update for `results-2022-06-23-13H-44M-04S`.\n",
      "MainProcess pypet.environment.Environment INFO     \n",
      "************************************************************\n",
      "STARTING runs of trajectory\n",
      "`results-2022-06-23-13H-44M-04S`.\n",
      "************************************************************\n",
      "\n",
      "MainProcess pypet.storageservice.HDF5StorageService INFO     Initialising storage or updating meta data of Trajectory `results-2022-06-23-13H-44M-04S`.\n",
      "MainProcess pypet.storageservice.HDF5StorageService INFO     Finished init or meta data update for `results-2022-06-23-13H-44M-04S`.\n",
      "MainProcess pypet.environment.Environment INFO     Starting multiprocessing with at most 10 processes running at the same time.\n",
      "MainProcess pypet INFO     PROGRESS: Finished  0/10 runs [                    ]  0.0%\n",
      "MainProcess pypet INFO     PROGRESS: Finished  1/10 runs [==                  ] 10.0%, remaining: 0:00:28\n",
      "MainProcess pypet INFO     PROGRESS: Finished  2/10 runs [====                ] 20.0%, remaining: 0:00:12\n",
      "MainProcess pypet INFO     PROGRESS: Finished  3/10 runs [======              ] 30.0%, remaining: 0:00:07\n",
      "MainProcess pypet INFO     PROGRESS: Finished  4/10 runs [========            ] 40.0%, remaining: 0:00:05\n",
      "MainProcess pypet INFO     PROGRESS: Finished  5/10 runs [==========          ] 50.0%, remaining: 0:00:03\n",
      "MainProcess pypet INFO     PROGRESS: Finished  6/10 runs [============        ] 60.0%, remaining: 0:00:32\n",
      "MainProcess pypet INFO     PROGRESS: Finished  7/10 runs [==============      ] 70.0%, remaining: 0:00:20\n",
      "MainProcess pypet INFO     PROGRESS: Finished  8/10 runs [================    ] 80.0%, remaining: 0:00:12\n",
      "MainProcess pypet INFO     PROGRESS: Finished  9/10 runs [==================  ] 90.0%, remaining: 0:00:05\n",
      "MainProcess pypet INFO     PROGRESS: Finished 10/10 runs [====================]100.0%\n",
      "MainProcess pypet.storageservice.HDF5StorageService INFO     Initialising storage or updating meta data of Trajectory `results-2022-06-23-13H-44M-04S`.\n",
      "MainProcess pypet.storageservice.HDF5StorageService INFO     Finished init or meta data update for `results-2022-06-23-13H-44M-04S`.\n",
      "MainProcess pypet.environment.Environment INFO     \n",
      "************************************************************\n",
      "FINISHED all runs of trajectory\n",
      "`results-2022-06-23-13H-44M-04S`.\n",
      "************************************************************\n",
      "\n",
      "MainProcess pypet.environment.Environment INFO     \n",
      "************************************************************\n",
      "STARTING FINAL STORING of trajectory\n",
      "`results-2022-06-23-13H-44M-04S`\n",
      "************************************************************\n",
      "\n",
      "MainProcess pypet.storageservice.HDF5StorageService INFO     Start storing Trajectory `results-2022-06-23-13H-44M-04S`.\n",
      "MainProcess pypet.storageservice.HDF5StorageService INFO     Storing branch `config`.\n",
      "MainProcess pypet.storageservice.HDF5StorageService INFO     Storing branch `parameters`.\n",
      "MainProcess pypet.storageservice.HDF5StorageService INFO     Finished storing Trajectory `results-2022-06-23-13H-44M-04S`.\n",
      "MainProcess pypet.environment.Environment INFO     \n",
      "************************************************************\n",
      "FINISHED FINAL STORING of trajectory\n",
      "`results-2022-06-23-13H-44M-04S`.\n",
      "************************************************************\n",
      "\n",
      "MainProcess pypet.environment.Environment INFO     All runs of trajectory `results-2022-06-23-13H-44M-04S` were completed successfully.\n"
     ]
    }
   ],
   "source": [
    "search.run()"
   ]
  },
  {
   "cell_type": "markdown",
   "id": "74b91158-69bf-4333-8dfa-748bead63e95",
   "metadata": {},
   "source": [
    "## Load data"
   ]
  },
  {
   "cell_type": "code",
   "execution_count": 44,
   "id": "0aab94fb-11e1-4cca-84d8-5899a25fa362",
   "metadata": {},
   "outputs": [
    {
     "name": "stderr",
     "output_type": "stream",
     "text": [
      "MainProcess root INFO     Loading results from ./data/hdf/example-1.2.1.hdf\n",
      "MainProcess root INFO     Analyzing trajectory results-2022-06-23-13H-44M-04S\n",
      "MainProcess pypet.storageservice.HDF5StorageService INFO     I will use the hdf5 file `./data/hdf/example-1.2.1.hdf`.\n",
      "MainProcess pypet.storageservice.HDF5StorageService INFO     Loading trajectory `results-2022-06-23-13H-44M-04S`.\n",
      "MainProcess pypet.storageservice.HDF5StorageService INFO     Loading branch `config` in mode `2`.\n",
      "MainProcess pypet.storageservice.HDF5StorageService INFO     Loading branch `parameters` in mode `2`.\n",
      "MainProcess pypet.storageservice.HDF5StorageService INFO     Loading branch `results` in mode `1`.\n",
      "MainProcess root INFO     Creating `dfResults` dataframe ...\n",
      "MainProcess root INFO     Loading all results to `results` dictionary ...\n",
      "100%|██████████| 10/10 [00:00<00:00, 423.03it/s]\n",
      "MainProcess root INFO     Aggregating results to `dfResults` ...\n",
      "100%|██████████| 10/10 [00:00<00:00, 2674.60it/s]\n",
      "MainProcess root INFO     All results loaded.\n"
     ]
    },
    {
     "name": "stdout",
     "output_type": "stream",
     "text": [
      "Number of results: 10\n"
     ]
    }
   ],
   "source": [
    "search.loadResults()\n",
    "print(\"Number of results: {}\".format(len(search.results)))"
   ]
  },
  {
   "cell_type": "code",
   "execution_count": 45,
   "id": "79b57b02-75e9-472a-89c4-8c356355a917",
   "metadata": {},
   "outputs": [
    {
     "data": {
      "text/html": [
       "<div>\n",
       "<style scoped>\n",
       "    .dataframe tbody tr th:only-of-type {\n",
       "        vertical-align: middle;\n",
       "    }\n",
       "\n",
       "    .dataframe tbody tr th {\n",
       "        vertical-align: top;\n",
       "    }\n",
       "\n",
       "    .dataframe thead th {\n",
       "        text-align: right;\n",
       "    }\n",
       "</style>\n",
       "<table border=\"1\" class=\"dataframe\">\n",
       "  <thead>\n",
       "    <tr style=\"text-align: right;\">\n",
       "      <th></th>\n",
       "      <th>mue_ext_mean</th>\n",
       "      <th>fcd</th>\n",
       "      <th>fc</th>\n",
       "    </tr>\n",
       "  </thead>\n",
       "  <tbody>\n",
       "    <tr>\n",
       "      <th>0</th>\n",
       "      <td>0.000000</td>\n",
       "      <td>NaN</td>\n",
       "      <td>NaN</td>\n",
       "    </tr>\n",
       "    <tr>\n",
       "      <th>1</th>\n",
       "      <td>0.222222</td>\n",
       "      <td>NaN</td>\n",
       "      <td>NaN</td>\n",
       "    </tr>\n",
       "    <tr>\n",
       "      <th>2</th>\n",
       "      <td>0.444444</td>\n",
       "      <td>NaN</td>\n",
       "      <td>NaN</td>\n",
       "    </tr>\n",
       "    <tr>\n",
       "      <th>3</th>\n",
       "      <td>0.666667</td>\n",
       "      <td>NaN</td>\n",
       "      <td>NaN</td>\n",
       "    </tr>\n",
       "    <tr>\n",
       "      <th>4</th>\n",
       "      <td>0.888889</td>\n",
       "      <td>NaN</td>\n",
       "      <td>NaN</td>\n",
       "    </tr>\n",
       "    <tr>\n",
       "      <th>5</th>\n",
       "      <td>1.111111</td>\n",
       "      <td>0.925928</td>\n",
       "      <td>0.000091</td>\n",
       "    </tr>\n",
       "    <tr>\n",
       "      <th>6</th>\n",
       "      <td>1.333333</td>\n",
       "      <td>0.757471</td>\n",
       "      <td>0.067985</td>\n",
       "    </tr>\n",
       "    <tr>\n",
       "      <th>7</th>\n",
       "      <td>1.555556</td>\n",
       "      <td>0.999937</td>\n",
       "      <td>0.479209</td>\n",
       "    </tr>\n",
       "    <tr>\n",
       "      <th>8</th>\n",
       "      <td>1.777778</td>\n",
       "      <td>0.980322</td>\n",
       "      <td>0.136387</td>\n",
       "    </tr>\n",
       "    <tr>\n",
       "      <th>9</th>\n",
       "      <td>2.000000</td>\n",
       "      <td>0.980322</td>\n",
       "      <td>0.025065</td>\n",
       "    </tr>\n",
       "  </tbody>\n",
       "</table>\n",
       "</div>"
      ],
      "text/plain": [
       "   mue_ext_mean       fcd        fc\n",
       "0      0.000000       NaN       NaN\n",
       "1      0.222222       NaN       NaN\n",
       "2      0.444444       NaN       NaN\n",
       "3      0.666667       NaN       NaN\n",
       "4      0.888889       NaN       NaN\n",
       "5      1.111111  0.925928  0.000091\n",
       "6      1.333333  0.757471  0.067985\n",
       "7      1.555556  0.999937  0.479209\n",
       "8      1.777778  0.980322  0.136387\n",
       "9      2.000000  0.980322  0.025065"
      ]
     },
     "execution_count": 45,
     "metadata": {},
     "output_type": "execute_result"
    }
   ],
   "source": [
    "search.dfResults"
   ]
  },
  {
   "cell_type": "markdown",
   "id": "88ff0b9d-e58c-440e-9467-e60fbd580d9c",
   "metadata": {},
   "source": [
    "## Plot"
   ]
  },
  {
   "cell_type": "code",
   "execution_count": 46,
   "id": "4431b3fa-443a-40eb-b7d9-4b3aced1891b",
   "metadata": {},
   "outputs": [
    {
     "data": {
      "text/plain": [
       "Text(0, 0.5, 'FC correlation')"
      ]
     },
     "execution_count": 46,
     "metadata": {},
     "output_type": "execute_result"
    },
    {
     "data": {
      "image/png": "[encoded data removed]",
      "text/plain": [
       "<Figure size 432x288 with 1 Axes>"
      ]
     },
     "metadata": {
      "needs_background": "light"
     },
     "output_type": "display_data"
    }
   ],
   "source": [
    "plt.plot(search.dfResults.mue_ext_mean, search.dfResults.fc, c='k', lw = 2)\n",
    "plt.title(\"Fit to empirical dataset\")\n",
    "plt.xlabel(\"Input to excitatory population\")\n",
    "plt.ylabel(\"FC correlation\")"
   ]
  },
  {
   "cell_type": "markdown",
   "id": "b2daf3ca-0fcf-484f-a4ce-c3f99dc5a187",
   "metadata": {},
   "source": [
    "## Search for optimal coupling strength"
   ]
  },
  {
   "cell_type": "code",
   "execution_count": 47,
   "id": "f3c712ab-56ff-41a4-b0ed-0d10b4c1d445",
   "metadata": {},
   "outputs": [],
   "source": [
    "model.params.mue_ext_mean = search.dfResults.mue_ext_mean[search.dfResults.fc.argmax()]"
   ]
  },
  {
   "cell_type": "code",
   "execution_count": 48,
   "id": "bc914390-6c36-4797-a500-7bcea23c380d",
   "metadata": {},
   "outputs": [
    {
     "data": {
      "text/plain": [
       "250.0"
      ]
     },
     "execution_count": 48,
     "metadata": {},
     "output_type": "execute_result"
    }
   ],
   "source": [
    "model.params.Ke_gl"
   ]
  },
  {
   "cell_type": "code",
   "execution_count": 49,
   "id": "0d45a1e1-9c76-4e57-9237-e664e8c385d6",
   "metadata": {},
   "outputs": [
    {
     "name": "stderr",
     "output_type": "stream",
     "text": [
      "MainProcess root INFO     Assuming parameter kind \"grid\"\n",
      "MainProcess root INFO     Number of processes: 10\n",
      "MainProcess pypet.storageservice.HDF5StorageService INFO     I will use the hdf5 file `./data/hdf/example-1.2.1.hdf`.\n",
      "MainProcess pypet.environment.Environment INFO     Environment initialized.\n",
      "MainProcess root INFO     Number of parameter configurations: 10\n",
      "MainProcess root INFO     BoxSearch: Environment initialized.\n"
     ]
    }
   ],
   "source": [
    "parameters = ParameterSpace({\"Ke_gl\": np.linspace(100, 400, 10)})\n",
    "search = BoxSearch(evalFunction = evaluateSimulation, model=model, parameterSpace=parameters, filename=\"example-1.2.1.hdf\")"
   ]
  },
  {
   "cell_type": "code",
   "execution_count": 50,
   "id": "5caa899b-078d-4157-89db-6106c7b19a47",
   "metadata": {},
   "outputs": [
    {
     "name": "stderr",
     "output_type": "stream",
     "text": [
      "MainProcess pypet.environment.Environment INFO     I am preparing the Trajectory for the experiment and initialise the store.\n",
      "MainProcess pypet.environment.Environment INFO     Initialising the storage for the trajectory.\n",
      "MainProcess pypet.storageservice.HDF5StorageService INFO     Initialising storage or updating meta data of Trajectory `results-2022-06-23-13H-44M-54S`.\n",
      "MainProcess pypet.storageservice.HDF5StorageService INFO     Finished init or meta data update for `results-2022-06-23-13H-44M-54S`.\n",
      "MainProcess pypet.environment.Environment INFO     \n",
      "************************************************************\n",
      "STARTING runs of trajectory\n",
      "`results-2022-06-23-13H-44M-54S`.\n",
      "************************************************************\n",
      "\n",
      "MainProcess pypet.storageservice.HDF5StorageService INFO     Initialising storage or updating meta data of Trajectory `results-2022-06-23-13H-44M-54S`.\n",
      "MainProcess pypet.storageservice.HDF5StorageService INFO     Finished init or meta data update for `results-2022-06-23-13H-44M-54S`.\n",
      "MainProcess pypet.environment.Environment INFO     Starting multiprocessing with at most 10 processes running at the same time.\n",
      "MainProcess pypet INFO     PROGRESS: Finished  0/10 runs [                    ]  0.0%\n",
      "MainProcess pypet INFO     PROGRESS: Finished  1/10 runs [==                  ] 10.0%, remaining: 0:09:04\n",
      "MainProcess pypet INFO     PROGRESS: Finished  2/10 runs [====                ] 20.0%, remaining: 0:04:02\n",
      "MainProcess pypet INFO     PROGRESS: Finished  3/10 runs [======              ] 30.0%, remaining: 0:02:21\n",
      "MainProcess pypet INFO     PROGRESS: Finished  4/10 runs [========            ] 40.0%, remaining: 0:01:31\n",
      "MainProcess pypet INFO     PROGRESS: Finished  5/10 runs [==========          ] 50.0%, remaining: 0:01:01\n",
      "MainProcess pypet INFO     PROGRESS: Finished  6/10 runs [============        ] 60.0%, remaining: 0:00:40\n",
      "MainProcess pypet INFO     PROGRESS: Finished  7/10 runs [==============      ] 70.0%, remaining: 0:00:26\n",
      "MainProcess pypet INFO     PROGRESS: Finished  8/10 runs [================    ] 80.0%, remaining: 0:00:15\n",
      "MainProcess pypet INFO     PROGRESS: Finished  9/10 runs [==================  ] 90.0%, remaining: 0:00:06\n",
      "MainProcess pypet INFO     PROGRESS: Finished 10/10 runs [====================]100.0%\n",
      "MainProcess pypet.storageservice.HDF5StorageService INFO     Initialising storage or updating meta data of Trajectory `results-2022-06-23-13H-44M-54S`.\n",
      "MainProcess pypet.storageservice.HDF5StorageService INFO     Finished init or meta data update for `results-2022-06-23-13H-44M-54S`.\n",
      "MainProcess pypet.environment.Environment INFO     \n",
      "************************************************************\n",
      "FINISHED all runs of trajectory\n",
      "`results-2022-06-23-13H-44M-54S`.\n",
      "************************************************************\n",
      "\n",
      "MainProcess pypet.environment.Environment INFO     \n",
      "************************************************************\n",
      "STARTING FINAL STORING of trajectory\n",
      "`results-2022-06-23-13H-44M-54S`\n",
      "************************************************************\n",
      "\n",
      "MainProcess pypet.storageservice.HDF5StorageService INFO     Start storing Trajectory `results-2022-06-23-13H-44M-54S`.\n",
      "MainProcess pypet.storageservice.HDF5StorageService INFO     Storing branch `config`.\n",
      "MainProcess pypet.storageservice.HDF5StorageService INFO     Storing branch `parameters`.\n",
      "MainProcess pypet.storageservice.HDF5StorageService INFO     Finished storing Trajectory `results-2022-06-23-13H-44M-54S`.\n",
      "MainProcess pypet.environment.Environment INFO     \n",
      "************************************************************\n",
      "FINISHED FINAL STORING of trajectory\n",
      "`results-2022-06-23-13H-44M-54S`.\n",
      "************************************************************\n",
      "\n",
      "MainProcess pypet.environment.Environment INFO     All runs of trajectory `results-2022-06-23-13H-44M-54S` were completed successfully.\n"
     ]
    }
   ],
   "source": [
    "search.run()"
   ]
  },
  {
   "cell_type": "code",
   "execution_count": 51,
   "id": "e033b022-af07-4ee6-bf4b-6229c035bda1",
   "metadata": {},
   "outputs": [
    {
     "name": "stderr",
     "output_type": "stream",
     "text": [
      "MainProcess root INFO     Loading results from ./data/hdf/example-1.2.1.hdf\n",
      "MainProcess root INFO     Analyzing trajectory results-2022-06-23-13H-44M-54S\n",
      "MainProcess pypet.storageservice.HDF5StorageService INFO     I will use the hdf5 file `./data/hdf/example-1.2.1.hdf`.\n",
      "MainProcess pypet.storageservice.HDF5StorageService INFO     Loading trajectory `results-2022-06-23-13H-44M-54S`.\n",
      "MainProcess pypet.storageservice.HDF5StorageService INFO     Loading branch `config` in mode `2`.\n",
      "MainProcess pypet.storageservice.HDF5StorageService INFO     Loading branch `parameters` in mode `2`.\n",
      "MainProcess pypet.storageservice.HDF5StorageService INFO     Loading branch `results` in mode `1`.\n",
      "MainProcess root INFO     Creating `dfResults` dataframe ...\n",
      "MainProcess root INFO     Loading all results to `results` dictionary ...\n",
      "100%|██████████| 10/10 [00:00<00:00, 372.25it/s]\n",
      "MainProcess root INFO     Aggregating results to `dfResults` ...\n",
      "100%|██████████| 10/10 [00:00<00:00, 2356.88it/s]\n",
      "MainProcess root INFO     All results loaded.\n"
     ]
    },
    {
     "name": "stdout",
     "output_type": "stream",
     "text": [
      "Number of results: 10\n"
     ]
    }
   ],
   "source": [
    "search.loadResults()\n",
    "print(\"Number of results: {}\".format(len(search.results)))"
   ]
  },
  {
   "cell_type": "code",
   "execution_count": 52,
   "id": "cccf5687-03a1-4154-b547-540d3fc25713",
   "metadata": {},
   "outputs": [
    {
     "data": {
      "text/html": [
       "<div>\n",
       "<style scoped>\n",
       "    .dataframe tbody tr th:only-of-type {\n",
       "        vertical-align: middle;\n",
       "    }\n",
       "\n",
       "    .dataframe tbody tr th {\n",
       "        vertical-align: top;\n",
       "    }\n",
       "\n",
       "    .dataframe thead th {\n",
       "        text-align: right;\n",
       "    }\n",
       "</style>\n",
       "<table border=\"1\" class=\"dataframe\">\n",
       "  <thead>\n",
       "    <tr style=\"text-align: right;\">\n",
       "      <th></th>\n",
       "      <th>Ke_gl</th>\n",
       "      <th>fcd</th>\n",
       "      <th>fc</th>\n",
       "    </tr>\n",
       "  </thead>\n",
       "  <tbody>\n",
       "    <tr>\n",
       "      <th>0</th>\n",
       "      <td>100.000000</td>\n",
       "      <td>0.974123</td>\n",
       "      <td>0.033562</td>\n",
       "    </tr>\n",
       "    <tr>\n",
       "      <th>1</th>\n",
       "      <td>133.333333</td>\n",
       "      <td>0.983341</td>\n",
       "      <td>0.066124</td>\n",
       "    </tr>\n",
       "    <tr>\n",
       "      <th>2</th>\n",
       "      <td>166.666667</td>\n",
       "      <td>0.980034</td>\n",
       "      <td>0.160708</td>\n",
       "    </tr>\n",
       "    <tr>\n",
       "      <th>3</th>\n",
       "      <td>200.000000</td>\n",
       "      <td>0.996384</td>\n",
       "      <td>0.421986</td>\n",
       "    </tr>\n",
       "    <tr>\n",
       "      <th>4</th>\n",
       "      <td>233.333333</td>\n",
       "      <td>0.999612</td>\n",
       "      <td>0.573198</td>\n",
       "    </tr>\n",
       "    <tr>\n",
       "      <th>5</th>\n",
       "      <td>266.666667</td>\n",
       "      <td>0.996180</td>\n",
       "      <td>0.513666</td>\n",
       "    </tr>\n",
       "    <tr>\n",
       "      <th>6</th>\n",
       "      <td>300.000000</td>\n",
       "      <td>0.999995</td>\n",
       "      <td>0.494824</td>\n",
       "    </tr>\n",
       "    <tr>\n",
       "      <th>7</th>\n",
       "      <td>333.333333</td>\n",
       "      <td>0.999319</td>\n",
       "      <td>0.583864</td>\n",
       "    </tr>\n",
       "    <tr>\n",
       "      <th>8</th>\n",
       "      <td>366.666667</td>\n",
       "      <td>0.999707</td>\n",
       "      <td>0.255026</td>\n",
       "    </tr>\n",
       "    <tr>\n",
       "      <th>9</th>\n",
       "      <td>400.000000</td>\n",
       "      <td>0.991411</td>\n",
       "      <td>0.086348</td>\n",
       "    </tr>\n",
       "  </tbody>\n",
       "</table>\n",
       "</div>"
      ],
      "text/plain": [
       "        Ke_gl       fcd        fc\n",
       "0  100.000000  0.974123  0.033562\n",
       "1  133.333333  0.983341  0.066124\n",
       "2  166.666667  0.980034  0.160708\n",
       "3  200.000000  0.996384  0.421986\n",
       "4  233.333333  0.999612  0.573198\n",
       "5  266.666667  0.996180  0.513666\n",
       "6  300.000000  0.999995  0.494824\n",
       "7  333.333333  0.999319  0.583864\n",
       "8  366.666667  0.999707  0.255026\n",
       "9  400.000000  0.991411  0.086348"
      ]
     },
     "execution_count": 52,
     "metadata": {},
     "output_type": "execute_result"
    }
   ],
   "source": [
    "search.dfResults"
   ]
  },
  {
   "cell_type": "code",
   "execution_count": 53,
   "id": "65916384-4c1c-47e6-a17d-4bac0a541f9e",
   "metadata": {},
   "outputs": [
    {
     "data": {
      "text/plain": [
       "Text(0, 0.5, 'FC correlation')"
      ]
     },
     "execution_count": 53,
     "metadata": {},
     "output_type": "execute_result"
    },
    {
     "data": {
      "image/png": "[encoded data removed]",
      "text/plain": [
       "<Figure size 432x288 with 1 Axes>"
      ]
     },
     "metadata": {
      "needs_background": "light"
     },
     "output_type": "display_data"
    }
   ],
   "source": [
    "plt.plot(search.dfResults.Ke_gl, search.dfResults.fc, c='k', lw = 2)\n",
    "plt.title(\"Fit to empirical dataset\")\n",
    "plt.xlabel(\"Global coupling strength\")\n",
    "plt.ylabel(\"FC correlation\")"
   ]
  },
  {
   "cell_type": "code",
   "execution_count": null,
   "id": "955a05ec-6e1e-4e41-b51c-7aaec4ef68b5",
   "metadata": {},
   "outputs": [],
   "source": []
  }
 ],
 "metadata": {
  "kernelspec": {
   "display_name": "Python 3 (ipykernel)",
   "language": "python",
   "name": "python3"
  },
  "language_info": {
   "codemirror_mode": {
    "name": "ipython",
    "version": 3
   },
   "file_extension": ".py",
   "mimetype": "text/x-python",
   "name": "python",
   "nbconvert_exporter": "python",
   "pygments_lexer": "ipython3",
   "version": "3.7.13"
  }
 },
 "nbformat": 4,
 "nbformat_minor": 5
}
